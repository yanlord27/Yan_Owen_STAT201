{
 "cells": [
  {
   "cell_type": "raw",
   "metadata": {
    "vscode": {
     "languageId": "raw"
    }
   },
   "source": [
    "---\n",
    "title: \"quiz 7\"\n",
    "format: \n",
    "  html:\n",
    "    toc: true\n",
    "    toc-title: Contents\n",
    "    code-fold: show\n",
    "    self-contained: true\n",
    "jupyter: python3\n",
    "---"
   ]
  },
  {
   "cell_type": "code",
   "execution_count": 6,
   "metadata": {},
   "outputs": [
    {
     "name": "stdout",
     "output_type": "stream",
     "text": [
      "3\n"
     ]
    }
   ],
   "source": [
    "#Question 11\n",
    "def count_distinct(s):\n",
    "    count=0\n",
    "    for i in range(len(s) - 2):\n",
    "        current = s[i:i+3]\n",
    "        seen_before = False\n",
    "        for j in range(i):\n",
    "            if s[j:j+3] == current:\n",
    "                seen_before = True\n",
    "                break\n",
    "        if seen_before==False:\n",
    "            count += 1\n",
    "    return count\n",
    "\n",
    "print(count_distinct(\"abcabcabc\"))\n",
    "\n"
   ]
  },
  {
   "cell_type": "code",
   "execution_count": 7,
   "metadata": {},
   "outputs": [
    {
     "name": "stdout",
     "output_type": "stream",
     "text": [
      "4\n"
     ]
    }
   ],
   "source": [
    "#Question 12\n",
    "def count_odd_palindromes(s):\n",
    "    n = len(s)\n",
    "    count = 0\n",
    "    for l in range(3, n+1, 2):\n",
    "        for i in range(n - l + 1):\n",
    "            sub = s[i:i+l]\n",
    "            if sub == sub[::-1]:\n",
    "                count += 1\n",
    "    return count\n",
    "\n",
    "print(count_odd_palindromes(\"racecaranna\"))\n"
   ]
  },
  {
   "cell_type": "code",
   "execution_count": 8,
   "metadata": {},
   "outputs": [
    {
     "name": "stdout",
     "output_type": "stream",
     "text": [
      "5\n"
     ]
    }
   ],
   "source": [
    "#Question 13\n",
    "def check_primes(a,b):\n",
    "    count=0\n",
    "    if a<2:\n",
    "        x=2\n",
    "    else:\n",
    "        x=a\n",
    "    while x<=b:\n",
    "        prime=True\n",
    "        for i in range(2,x):\n",
    "            if x%i==0:\n",
    "                prime=False\n",
    "        if prime:\n",
    "            count+=1\n",
    "        x+=1\n",
    "    return count\n",
    "\n",
    "print(check_primes(60,80))\n",
    "        "
   ]
  }
 ],
 "metadata": {
  "kernelspec": {
   "display_name": ".venv",
   "language": "python",
   "name": "python3"
  },
  "language_info": {
   "codemirror_mode": {
    "name": "ipython",
    "version": 3
   },
   "file_extension": ".py",
   "mimetype": "text/x-python",
   "name": "python",
   "nbconvert_exporter": "python",
   "pygments_lexer": "ipython3",
   "version": "3.13.2"
  }
 },
 "nbformat": 4,
 "nbformat_minor": 2
}
