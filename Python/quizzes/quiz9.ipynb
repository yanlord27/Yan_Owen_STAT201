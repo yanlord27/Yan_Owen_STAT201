{
 "cells": [
  {
   "cell_type": "code",
   "execution_count": 1,
   "metadata": {},
   "outputs": [
    {
     "name": "stdout",
     "output_type": "stream",
     "text": [
      "[0, 3, 4, 8, 9]\n"
     ]
    }
   ],
   "source": [
    "#Question 10\n",
    "def prefix_sums(nums):\n",
    "    result = []\n",
    "    total = 0\n",
    "    for x in nums:\n",
    "        result.append(total)\n",
    "        total += x\n",
    "    return result\n",
    "print(prefix_sums([3, 1, 4, 1, 5]))"
   ]
  },
  {
   "cell_type": "code",
   "execution_count": 40,
   "metadata": {},
   "outputs": [
    {
     "name": "stdout",
     "output_type": "stream",
     "text": [
      "Length of clean list: 181\n",
      "Mean age (capped at 80): 28.955801104972377\n",
      "Percentage ≥ 30: 37.01657458563536%\n"
     ]
    }
   ],
   "source": [
    "#Question 11\n",
    "exp_marriage_age=['24','30','28','29','30','27','26','28','30+','26','28','30','30','30','probably never','30','25','25','30','28','30+ ','30','25','28','28','25','25','27','28','30','30','35','26','28','27','27','30','25','30','26','32','27','26','27','26','28','37','28','28','28','35','28','27','28','26','28','26','30','27','30','28','25','26','28','35','29','27','27','30','24','25','29','27','33','30','30','25','26','30','32','26','30','30','I wont','25','27','27','25','27','27','32','26','25','never','28','33','28','35','25','30','29','30','31','28','28','30','40','30','28','30','27','by 30','28','27','28','30-35','35','30','30','never','30','35','28','31','30','27','33','32','27','27','26','N/A','25','26','29','28','34','26','24','28','30','120','25','33','27','28','32','30','26','30','30','28','27','27','27','27','27','27','28','30','30','30','28','30','28','30','30','28','28','30','27','30','28','25','never','69','28','28','33','30','28','28','26','30','26','27','30','25','Never','27','27','25']\n",
    "\n",
    "clean = []\n",
    "for x in exp_marriage_age:\n",
    "    if x.isdigit():\n",
    "        clean.append(int(x))\n",
    "# length of the cleaned list\n",
    "print(f\"Length of clean list: {len(clean)}\")\n",
    "#Mean age for <=80\n",
    "capped = []\n",
    "for x in clean:\n",
    "    if x<=80:\n",
    "        capped.append(x)\n",
    "    if x>80:\n",
    "        capped.append(80)\n",
    "mean_age = sum(capped) / len(capped)\n",
    "print(f\"Mean age (capped at 80): {mean_age}\")\n",
    "# Percentage expecting to marry at age ≥ 30\n",
    "count_30_plus = 0\n",
    "for x in clean:\n",
    "    if x>=30:\n",
    "        count_30_plus+=1\n",
    "\n",
    "percent_30_plus = count_30_plus / length_clean * 100\n",
    "\n",
    "\n",
    "\n",
    "print(f\"Percentage ≥ 30: {percent_30_plus}%\")"
   ]
  }
 ],
 "metadata": {
  "kernelspec": {
   "display_name": ".venv",
   "language": "python",
   "name": "python3"
  },
  "language_info": {
   "codemirror_mode": {
    "name": "ipython",
    "version": 3
   },
   "file_extension": ".py",
   "mimetype": "text/x-python",
   "name": "python",
   "nbconvert_exporter": "python",
   "pygments_lexer": "ipython3",
   "version": "3.13.2"
  }
 },
 "nbformat": 4,
 "nbformat_minor": 2
}
