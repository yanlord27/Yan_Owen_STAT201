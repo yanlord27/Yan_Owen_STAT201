{
 "cells": [
  {
   "cell_type": "raw",
   "id": "db6908b1",
   "metadata": {
    "vscode": {
     "languageId": "raw"
    }
   },
   "source": [
    "---\n",
    "title: \"Midterm Coding\"\n",
    "subtitle: \"STAT 201\"\n",
    "author: \"Owen Yan\"\n",
    "format:\n",
    "  html:\n",
    "    toc: true\n",
    "    embed-resources: true\n",
    "---"
   ]
  },
  {
   "cell_type": "markdown",
   "id": "14376537",
   "metadata": {},
   "source": [
    "### Instructions"
   ]
  },
  {
   "cell_type": "markdown",
   "id": "fe725fb7",
   "metadata": {},
   "source": [
    "1. **Write your name** at the top!\n",
    "2. Feel free to add additional cells as needed.\n",
    "3. Write your code in the *Code* cells of the **template provided** to write solutions for the assignment. **Do not open a new notebook**, and work from scratch. Ensure that the solution is written neatly enough to understand and grade.\n",
    "\n",
    "4. Use [Quarto](https://quarto.org/docs/output-formats/html-basics.html) to print the *.ipynb* file as HTML. You will need to open the terminal, navigate to the directory containing the file, and use the command: `quarto render filename.ipynb --to html`. Submit the HTML file.\n",
    "\n",
    "5. You are NOT permitted to use AI, internet, or eachother. You can use any amount of physical notes printed/written/typed that you would like.\n",
    "\n",
    "6. There are point deductions if your code is not clean and organized."
   ]
  },
  {
   "cell_type": "markdown",
   "id": "f73d9602",
   "metadata": {},
   "source": [
    "## Question 1: Collecting Even Numbers Until a Target Sum *(4 points)*"
   ]
  },
  {
   "cell_type": "markdown",
   "id": "8035f5ef",
   "metadata": {},
   "source": [
    "Continually **prompt the user** to enter an **even integer between 2 and 20**, inclusive.\n",
    "\n",
    "- Keep accepting input until the **sum of all valid entries** reaches or exceeds **50**.\n",
    "- If the input is **outside the range** 2 to 20, display:  \n",
    "  `\"Please enter a number between 2 and 20.\"`\n",
    "- If the input is **within the range** but **not even**, display:  \n",
    "  `\"That is not an even integer.\"`\n",
    "- Do **not** count invalid inputs toward the total. The program should **keep prompting** until the required condition is met.\n",
    "\n",
    "\n",
    "\n",
    "Once the program is complete print the following statement only **once**::\n",
    "\n",
    "                            \"You entered {} numbers that sum to {}.\" \n",
    "                                - the first {} is the count of the number of terms entered \n",
    "                                - the second {} is the sum of all the terms\n",
    "    \n",
    "Run your program with any values until it ends."
   ]
  },
  {
   "cell_type": "code",
   "execution_count": 8,
   "id": "a033a543",
   "metadata": {},
   "outputs": [
    {
     "name": "stdout",
     "output_type": "stream",
     "text": [
      "You entered 3 numbers that sum to 60\n"
     ]
    }
   ],
   "source": [
    "even_int=0\n",
    "count=0\n",
    "while even_int<=50:\n",
    "    try:\n",
    "        num=int(input(\"Enter a number between 2 and 20\"))\n",
    "        if num<=20 and num>=2 and num%2==0:\n",
    "            even_int+=num\n",
    "            count+=1\n",
    "        elif num<2 or num>20:\n",
    "            print(\"Please enter a number between 2 and 20.\")\n",
    "        elif num<=20 and num>=2 and num%2!=0:\n",
    "            print(\"That is not an even integer\")\n",
    "    except:\n",
    "        print(\"Please enter a number between 2 and 20.\")\n",
    "\n",
    "print(f\"You entered {count} numbers that sum to {even_int}\")"
   ]
  },
  {
   "cell_type": "markdown",
   "id": "f7c4752e",
   "metadata": {},
   "source": [
    "## Question 2: Counting Word Occurrences in a Sentence *(4 points)*\n",
    "\n",
    "#### Task:  \n",
    "Write a Python function named `count_word_occurrences` that accepts two arguments:  \n",
    "\n",
    "- **`word`** (a string) – the word to count.  \n",
    "- **`sentence`** (a string) – the sentence in which to count occurrences of the word.  \n",
    "\n",
    "The function should return the number of times the **exact word** appears in the sentence, regardless of case. The word should be matched as a **whole word**, not as part of another word (e.g., `\"sea\"` should **not** be counted in `\"seashore\"`).  \n",
    "\n",
    "#### Example Usage:  \n",
    "Use this function to count the occurrences of the word **\"sea\"** in the following sentence:  \n",
    "\n",
    "> `\"The seaside town celebrates the sea with a season of seafood festivals by the sea.\"`  "
   ]
  },
  {
   "cell_type": "code",
   "execution_count": 107,
   "id": "eaa6f88f",
   "metadata": {},
   "outputs": [
    {
     "name": "stdout",
     "output_type": "stream",
     "text": [
      "2\n"
     ]
    }
   ],
   "source": [
    "def count_word_occurrences(word, sentence):\n",
    "    count=0\n",
    "    word_l=word.lower()\n",
    "    sentence_l=sentence.lower()\n",
    "    for i in range(len(sentence_l)-len(word_l)):\n",
    "        if i!=0 and i!=(len(sentence_l)-len(word_l)):\n",
    "            if sentence_l[i:i+len(word_l)]==word_l and sentence_l[i-1].isalpha()==False and sentence_l[i+len(word_l)].isalpha()==False:\n",
    "                count+=1\n",
    "        elif i==0:\n",
    "            if sentence_l[i:i+len(word_l)]==word_l and sentence_l[i+len(word_l)].isalpha()==False:\n",
    "                count+=1\n",
    "        else:\n",
    "            if sentence_l[i:i+len(word_l)]==word_l and sentence_l[i-1].isalpha()==False:\n",
    "                count+=1\n",
    "    return count\n",
    "print(count_word_occurrences(\"sea\", \"The seaside town celebrates the sea with a season of seafood festivals by the sea.\"))\n"
   ]
  },
  {
   "cell_type": "markdown",
   "id": "3a7dad3a",
   "metadata": {},
   "source": [
    "## Question 3: Working with Python Lists *(4 points)*\n",
    "\n",
    "Create a list called `my_nums` that contains any 5 numbers of your choice.\n",
    "\n",
    "Complete the following sequence of tasks **in order**:\n",
    "\n",
    "- add the numbers 3, 8 and 15 to the end of your list\n",
    "- insert the number 1 into the **direct middle** of your list\n",
    "- create a new list called `not_by_3` that is created by iterating through `my_nums` and only including/adding numbers that are NOT divisible by 3\n",
    "- print your `not_by_3` list"
   ]
  },
  {
   "cell_type": "code",
   "execution_count": 19,
   "id": "852001db",
   "metadata": {},
   "outputs": [
    {
     "name": "stdout",
     "output_type": "stream",
     "text": [
      "[1, 2, 4, 1, 5, 8]\n"
     ]
    }
   ],
   "source": [
    "my_nums=[1,2,3,4,5]\n",
    "#Adds 3,8,15 to the end\n",
    "my_nums.extend([3,8,15])\n",
    "#The list ends at index 7, so the middle is exactly index 4.\n",
    "my_nums.insert(4,1)\n",
    "\n",
    "not_by_3=list((x for x in my_nums if x%3!=0))\n",
    "print(not_by_3)"
   ]
  },
  {
   "cell_type": "markdown",
   "id": "f760d108",
   "metadata": {},
   "source": [
    "## Question 4: Categorizing Animals by Habitat Using a Single Loop *(5 points)*"
   ]
  },
  {
   "cell_type": "markdown",
   "id": "5844c652",
   "metadata": {},
   "source": [
    "Consider the `animal_habitat` object defined below which contains animals and their corresponding habitats."
   ]
  },
  {
   "cell_type": "code",
   "execution_count": 1,
   "id": "8a17aafd",
   "metadata": {},
   "outputs": [],
   "source": [
    "animal_habitat = {\n",
    "    \"lion\": \"savanna\",\n",
    "    \"elephant\": \"savanna\",\n",
    "    \"tiger\": \"forest\",\n",
    "    \"penguin\": \"polar\",\n",
    "    \"polar bear\": \"polar\",\n",
    "    \"kangaroo\": \"grassland\",\n",
    "    \"cheetah\": \"savanna\",\n",
    "    \"giraffe\": \"savanna\",\n",
    "    \"wolf\": \"forest\",\n",
    "    \"crocodile\": \"wetlands\",\n",
    "    \"otter\": \"wetlands\",\n",
    "    \"parrot\": \"rainforest\",\n",
    "    \"gorilla\": \"rainforest\",\n",
    "    \"dolphin\": \"ocean\",\n",
    "    \"whale\": \"ocean\",\n",
    "    \"eagle\": \"mountains\",\n",
    "    \"panda\": \"forest\"\n",
    "}"
   ]
  },
  {
   "cell_type": "markdown",
   "id": "7de88280",
   "metadata": {},
   "source": [
    "#### **Instructions:**\n",
    "Use the dictionary `animal_habitat` to create:\n",
    "\n",
    "- A **list** of all animals that live in the **savanna** (call it `savanna_animals`).\n",
    "- A **list** of all animals that live in the **forest** (call it `forest_animals`).\n",
    "- A **list** of all remaining animals (call it `other_animals`).\n",
    "- A **dictionary** (call it `habitat_count`) that counts the number of animals in the **savanna**, **forest**, and **other** habitats.\n",
    "\n",
    "#### **Constraints:**\n",
    "- This should be done within a **single loop**.\n",
    "- Initialize `habitat_count` with keys `\"savanna\"`, `\"forest\"`, and `\"other\"`, all starting with a value of `0`.\n",
    "\n",
    "#### **Hint:**\n",
    "Use **if-elif-else**  structure inside the loop to classify each animal based on its habitat."
   ]
  },
  {
   "cell_type": "code",
   "execution_count": 26,
   "id": "2101ebf3",
   "metadata": {},
   "outputs": [],
   "source": [
    "animal_habitat = {\n",
    "    \"lion\": \"savanna\",\n",
    "    \"elephant\": \"savanna\",\n",
    "    \"tiger\": \"forest\",\n",
    "    \"penguin\": \"polar\",\n",
    "    \"polar bear\": \"polar\",\n",
    "    \"kangaroo\": \"grassland\",\n",
    "    \"cheetah\": \"savanna\",\n",
    "    \"giraffe\": \"savanna\",\n",
    "    \"wolf\": \"forest\",\n",
    "    \"crocodile\": \"wetlands\",\n",
    "    \"otter\": \"wetlands\",\n",
    "    \"parrot\": \"rainforest\",\n",
    "    \"gorilla\": \"rainforest\",\n",
    "    \"dolphin\": \"ocean\",\n",
    "    \"whale\": \"ocean\",\n",
    "    \"eagle\": \"mountains\",\n",
    "    \"panda\": \"forest\"\n",
    "}\n",
    "savanna_animals=[]\n",
    "forest_animals=[]\n",
    "other_animals=[]\n",
    "habitat_count={\"savanna\":0, \"forest\":0, \"other\":0}\n",
    "for animal,habitat in animal_habitat.items():\n",
    "    if habitat==\"savanna\":\n",
    "        savanna_animals.append(animal)\n",
    "        habitat_count[\"savanna\"]+=1\n",
    "    elif habitat==\"forest\":\n",
    "        forest_animals.append(animal)\n",
    "        habitat_count[\"forest\"]+=1\n",
    "    else:\n",
    "        other_animals.append(animal)\n",
    "        habitat_count[\"other\"]+=1"
   ]
  },
  {
   "cell_type": "markdown",
   "id": "1859c028",
   "metadata": {},
   "source": [
    "## Question 5: Movie Profit Analysis *(3 points)*"
   ]
  },
  {
   "cell_type": "markdown",
   "id": "5fff5789",
   "metadata": {},
   "source": [
    "USA’s GDP per capita from 1960 to 2021 is given by the tuple `T` in the code cell below. The values are arranged in ascending order of the year, i.e., the first value is for 1960, the second value is for 1961, and so on."
   ]
  },
  {
   "cell_type": "code",
   "execution_count": null,
   "id": "eff179e5",
   "metadata": {},
   "outputs": [],
   "source": [
    "T = (3007, 3067, 3244, 3375,3574, 3828, 4146, 4336, 4696, 5032,5234,5609,6094,6726,7226,7801,8592,9453,10565,11674,12575,13976,14434,15544,17121,18237,19071,20039,21417,22857,23889,24342,25419,26387,27695,28691,29968,31459,32854,34515,36330,37134,37998,39490,41725,44123,46302,48050,48570,47195,48651,50066,51784,53291,55124,56763,57867,59915,62805,65095,63028,69288)"
   ]
  },
  {
   "cell_type": "markdown",
   "id": "de60cda9",
   "metadata": {},
   "source": [
    "####\n",
    "Use list comprehension to create a list of the gaps between consecutive entries in `T`, i.e, the increase in GDP per capita with respect to the previous year. The list with gaps should look like: [60, 177, …]. Let the name of this list be `GDP_increase`. (2 points)"
   ]
  },
  {
   "cell_type": "code",
   "execution_count": 123,
   "id": "d7cb13a0",
   "metadata": {},
   "outputs": [
    {
     "name": "stdout",
     "output_type": "stream",
     "text": [
      "(7801, 12575, 18237, 23889, 28691, 36330, 44123, 48651, 56763)\n",
      "6260\n",
      "0.5081967213114754\n",
      "[2004, 2005, 2006, 2017, 2018, 2019, 2021]\n"
     ]
    }
   ],
   "source": [
    "T = (3007, 3067, 3244, 3375,3574, 3828, 4146, 4336, 4696, 5032,5234,5609,6094,6726,7226,7801,8592,9453,10565,11674,12575,13976,14434,15544,17121,18237,19071,20039,21417,22857,23889,24342,25419,26387,27695,28691,29968,31459,32854,34515,36330,37134,37998,39490,41725,44123,46302,48050,48570,47195,48651,50066,51784,53291,55124,56763,57867,59915,62805,65095,63028,69288)\n",
    "\n",
    "GDP_new=T[15:56:5]\n",
    "print(GDP_new)\n",
    "GDP_increase = list((T[i] - (T[i-1])) for i in range(1, len(T)))\n",
    "print(max(GDP_increase))\n",
    "\n",
    "#Bonus\n",
    "#1\n",
    "GDP_increase_big=list(i for i in range(0,len(GDP_increase)-1) if GDP_increase[i]>=1000)\n",
    "print(len(GDP_increase_big)/len(GDP_increase))\n",
    "#2\n",
    "list_years_big=list(year for year,GDP in enumerate(GDP_increase,start=1961) if GDP>=2000)\n",
    "print(list_years_big)"
   ]
  },
  {
   "cell_type": "markdown",
   "id": "04b3d7e6",
   "metadata": {},
   "source": [
    "####\n",
    "Use `GDP_increase` to find the maximum gap size, i.e, the maximum increase in GDP per capita. (1 point)"
   ]
  },
  {
   "cell_type": "code",
   "execution_count": 113,
   "id": "231176cb",
   "metadata": {},
   "outputs": [
    {
     "name": "stdout",
     "output_type": "stream",
     "text": [
      "()\n"
     ]
    }
   ],
   "source": [
    "tuples=(1,2,3,4)\n",
    "print(tuples[2:2])"
   ]
  },
  {
   "cell_type": "markdown",
   "id": "e3c73e2c",
   "metadata": {},
   "source": [
    "## Bonus Points *(3 points)*\n",
    "\n",
    "####\n",
    "Use list comprehension with `GDP_increase` to find the percentage of gaps that have size greater than $1000. (1 point)"
   ]
  },
  {
   "cell_type": "code",
   "execution_count": 120,
   "id": "39a455c6",
   "metadata": {},
   "outputs": [
    {
     "name": "stdout",
     "output_type": "stream",
     "text": [
      "dasd adsflkj 2+31\n",
      "aasdd d 3\n"
     ]
    }
   ],
   "source": [
    "date=1\n",
    "month=30\n",
    "print(\"dasd adsflkj {}+{}\".format(2,date+month))\n",
    "print(\"aasdd\",\"d\",1+2)"
   ]
  },
  {
   "cell_type": "markdown",
   "id": "ff4e3483",
   "metadata": {},
   "source": [
    "####\n",
    "Use list comprehension with `GDP_increase` to print the list of years in which the GDP per capita increase was more than $2000. (2 points)\n",
    "\n",
    "**Hint:** The `enumerate()` function may help."
   ]
  },
  {
   "cell_type": "code",
   "execution_count": 121,
   "id": "667db7c7",
   "metadata": {},
   "outputs": [
    {
     "name": "stdout",
     "output_type": "stream",
     "text": [
      "4\n"
     ]
    }
   ],
   "source": [
    "def test(a,b=2,c=3):\n",
    "    c=abs(a)+b+c\n",
    "    return c\n",
    "print(test(-1,c=1))"
   ]
  },
  {
   "cell_type": "code",
   "execution_count": 125,
   "id": "511e798e",
   "metadata": {},
   "outputs": [
    {
     "name": "stdout",
     "output_type": "stream",
     "text": [
      "[1.25, 0, 10, 3, 0, 1]\n"
     ]
    }
   ],
   "source": [
    "original_prices=[1.25,-9,10,3,-5,1]\n",
    "new_prices=[price if price>0 else 0 for price in original_prices]\n",
    "print(new_prices)"
   ]
  }
 ],
 "metadata": {
  "kernelspec": {
   "display_name": ".venv",
   "language": "python",
   "name": "python3"
  },
  "language_info": {
   "codemirror_mode": {
    "name": "ipython",
    "version": 3
   },
   "file_extension": ".py",
   "mimetype": "text/x-python",
   "name": "python",
   "nbconvert_exporter": "python",
   "pygments_lexer": "ipython3",
   "version": "3.13.2"
  }
 },
 "nbformat": 4,
 "nbformat_minor": 5
}
