{
 "cells": [
  {
   "cell_type": "markdown",
   "metadata": {},
   "source": [
    "## Data Structure Practice 1 - list"
   ]
  },
  {
   "cell_type": "code",
   "execution_count": 1,
   "metadata": {},
   "outputs": [
    {
     "name": "stdout",
     "output_type": "stream",
     "text": [
      "[8, 17, 10]\n",
      "[8, 17, 10, 4, 5, 6]\n",
      "[17, 10, 4, 5, 6]\n",
      "[4, 5, 6, 10, 17]\n",
      "[4, 5, 6, 10, 17, 4, 5, 6, 10, 17]\n",
      "[4, 5, 6, 25, 10, 17, 4, 5, 6, 10, 17]\n"
     ]
    }
   ],
   "source": [
    "my_list = [8, 9, 10]\n",
    "\n",
    "# Set the second entry (index 1) to 17\n",
    "my_list[1] = 17\n",
    "print(my_list)\n",
    "\n",
    "# Add 4, 5, and 6 to the end of the list\n",
    "my_list.extend([4, 5, 6])\n",
    "print(my_list)\n",
    "\n",
    "# Remove the first entry from the list\n",
    "my_list.remove(8)\n",
    "print(my_list)\n",
    "\n",
    "# Sort the list\n",
    "my_list.sort()\n",
    "print(my_list)\n",
    "\n",
    "# Double the list (concatenate the list to itself)\n",
    "my_list = my_list + my_list\n",
    "print(my_list)\n",
    "\n",
    "# Insert 25 at index 3, then print the final list.\n",
    "my_list.insert(3, 25)\n",
    "print(my_list)"
   ]
  },
  {
   "cell_type": "markdown",
   "metadata": {},
   "source": [
    "## Data Structure Practice 2 - list"
   ]
  },
  {
   "cell_type": "code",
   "execution_count": 2,
   "metadata": {},
   "outputs": [
    {
     "name": "stdout",
     "output_type": "stream",
     "text": [
      "[1, 3, 5, 7, 9, 11, 13, 15, 17, 19]\n",
      "[5, 6, 6]\n",
      "[15, 30, 45, 60, 75, 90]\n"
     ]
    }
   ],
   "source": [
    "# Create a list of all odd numbers between 1 and 20.\n",
    "my_list = []\n",
    "for i in range(1, 21):\n",
    "    if i % 2 != 0:\n",
    "        my_list.append(i)\n",
    "print(my_list)\n",
    "\n",
    "# Generate a list of the lengths of each word in the list [“apple”, “banana”, “cherry”].\n",
    "fruit_list = [\"apple\", \"banana\", \"cherry\"]\n",
    "fruit_len=[]\n",
    "for item in fruit_list:\n",
    "    fruit_len.append(len(item))\n",
    "print(fruit_len)\n",
    "\n",
    "# Create a list of numbers divisible by both 3 and 5 from 1 to 100.\n",
    "num_list = []\n",
    "for i in range(1, 101):\n",
    "    if i % 3 == 0 and i % 5 == 0:\n",
    "        num_list.append(i)\n",
    "print(num_list)"
   ]
  },
  {
   "cell_type": "markdown",
   "metadata": {},
   "source": [
    "## Data Structure Practice 3 - list"
   ]
  },
  {
   "cell_type": "code",
   "execution_count": null,
   "metadata": {},
   "outputs": [
    {
     "name": "stdout",
     "output_type": "stream",
     "text": [
      "[24, 30, 28, 29, 30, 27, 26, 28, 26, 28, 30, 30, 30, 30, 25, 25, 30, 28, 30, 25, 28, 28, 25, 25, 27, 28, 30, 30, 35, 26, 28, 27, 27, 30, 25, 30, 26, 32, 27, 26, 27, 26, 28, 37, 28, 28, 28, 35, 28, 27, 28, 26, 28, 26, 30, 27, 30, 28, 25, 26, 28, 35, 29, 27, 27, 30, 24, 25, 29, 27, 33, 30, 30, 25, 26, 30, 32, 26, 30, 30, 25, 27, 27, 25, 27, 27, 32, 26, 25, 28, 33, 28, 35, 25, 30, 29, 30, 31, 28, 28, 30, 40, 30, 28, 30, 27, 28, 27, 28, 35, 30, 30, 30, 35, 28, 31, 30, 27, 33, 32, 27, 27, 26, 25, 26, 29, 28, 34, 26, 24, 28, 30, 120, 25, 33, 27, 28, 32, 30, 26, 30, 30, 28, 27, 27, 27, 27, 27, 27, 28, 30, 30, 30, 28, 30, 28, 30, 30, 28, 28, 30, 27, 30, 28, 25, 69, 28, 28, 33, 30, 28, 28, 26, 30, 26, 27, 30, 25, 27, 27, 25]\n",
      "[24, 30, 28, 29, 30, 27, 26, 28, 26, 28, 30, 30, 30, 30, 25, 25, 30, 28, 30, 25, 28, 28, 25, 25, 27, 28, 30, 30, 35, 26, 28, 27, 27, 30, 25, 30, 26, 32, 27, 26, 27, 26, 28, 37, 28, 28, 28, 35, 28, 27, 28, 26, 28, 26, 30, 27, 30, 28, 25, 26, 28, 35, 29, 27, 27, 30, 24, 25, 29, 27, 33, 30, 30, 25, 26, 30, 32, 26, 30, 30, 25, 27, 27, 25, 27, 27, 32, 26, 25, 28, 33, 28, 35, 25, 30, 29, 30, 31, 28, 28, 30, 40, 30, 28, 30, 27, 28, 27, 28, 35, 30, 30, 30, 35, 28, 31, 30, 27, 33, 32, 27, 27, 26, 25, 26, 29, 28, 34, 26, 24, 28, 30, 80, 25, 33, 27, 28, 32, 30, 26, 30, 30, 28, 27, 27, 27, 27, 27, 27, 28, 30, 30, 30, 28, 30, 28, 30, 30, 28, 28, 30, 27, 30, 28, 25, 69, 28, 28, 33, 30, 28, 28, 26, 30, 26, 27, 30, 25, 27, 27, 25]\n",
      "28.96\n",
      "37.02%\n"
     ]
    }
   ],
   "source": [
    "exp_marriage_age = ['24','30','28','29','30','27','26','28','30+','26','28','30','30','30','probably never','30','25','25','30','28','30+ ','30','25','28','28','25','25','27','28','30','30','35','26','28','27','27','30','25','30','26','32','27','26','27','26','28','37','28','28','28','35','28','27','28','26','28','26','30','27','30','28','25','26','28','35','29','27','27','30','24','25','29','27','33','30','30','25','26','30','32','26','30','30','I wont','25','27','27','25','27','27','32','26','25','never','28','33','28','35','25','30','29','30','31','28','28','30','40','30','28','30','27','by 30','28','27','28','30-35','35','30','30','never','30','35','28','31','30','27','33','32','27','27','26','N/A','25','26','29','28','34','26','24','28','30','120','25','33','27','28','32','30','26','30','30','28','27','27','27','27','27','27','28','30','30','30','28','30','28','30','30','28','28','30','27','30','28','25','never','69','28','28','33','30','28','28','26','30','26','27','30','25','Never','27','27','25']\n",
    "\n",
    "# Remove the elements that are not integers - such as ‘probably never’, ‘30+’, etc. What is the length of the new list?\n",
    "new_list = [int(x) for x in exp_marriage_age if x.isdigit()]\n",
    "print(new_list)\n",
    "\n",
    "#Cap the values greater than 80 to 80, in the clean list obtained in (1).\n",
    "new_list2 = [x if x <= 80 else 80 for x in new_list]\n",
    "print(new_list2)\n",
    "\n",
    "# What is the mean age when people expect to marry in the new list?\n",
    "mean = sum(new_list2) / len(new_list2)\n",
    "print(f\"{mean:.2f}\")\n",
    "\n",
    "# Determine the percentage of people who expect to marry at an age of 30 or more.\n",
    "new_list3 = [x for x in new_list2 if x >= 30]\n",
    "percent = (len(new_list3) / len(new_list2)) * 100\n",
    "print(f\"{percent:.2f}%\")"
   ]
  },
  {
   "cell_type": "markdown",
   "metadata": {},
   "source": [
    "## Data Structure Practice 4 - tuple"
   ]
  },
  {
   "cell_type": "code",
   "execution_count": 5,
   "metadata": {},
   "outputs": [
    {
     "name": "stdout",
     "output_type": "stream",
     "text": [
      "27392.95\n",
      "69288\n",
      "3007\n",
      "(2.0, 5.77, 4.04, 5.9, 7.11, 8.31, 4.58, 8.3, 7.16, 4.01, 7.16, 8.65, 10.37, 7.43, 7.96, 10.14, 10.02, 11.76, 10.5, 7.72, 11.14, 3.28, 7.69, 10.15, 6.52, 4.57, 5.08, 6.88, 6.72, 4.52, 1.9, 4.42, 3.81, 4.96, 3.6, 4.45, 4.98, 4.43, 5.06, 5.26, 2.21, 2.33, 3.93, 5.66, 5.75, 4.94, 3.78, 1.08, -2.83, 3.09, 2.91, 3.43, 2.91, 3.44, 2.97, 1.94, 3.54, 4.82, 3.65, -3.18, 9.93)\n",
      "[2.0, 5.77, 4.04, 5.9, 7.11, 8.31, 4.58, 8.3, 7.16, 4.01, 7.16, 8.65, 10.37, 7.43, 7.96, 10.14, 10.02, 11.76, 10.5, 7.72, 11.14, 3.28, 7.69, 10.15, 6.52, 4.57, 5.08, 6.88, 6.72, 4.52, 1.9, 4.42, 3.81, 4.96, 3.6, 4.45, 4.98, 4.43, 5.06, 5.26, 2.21, 2.33, 3.93, 5.66, 5.75, 4.94, 3.78, 1.08, -2.83, 3.09, 2.91, 3.43, 2.91, 3.44, 2.97, 1.94, 3.54, 4.82, 3.65, -3.18, 9.93]\n",
      "1977\n",
      "((1960, 3007), (1961, 3067), (1962, 3244), (1963, 3375), (1964, 3574), (1965, 3828), (1966, 4146), (1967, 4336), (1968, 4696), (1969, 5032), (1970, 5234), (1971, 5609), (1972, 6094), (1973, 6726), (1974, 7226), (1975, 7801), (1976, 8592), (1977, 9453), (1978, 10565), (1979, 11674), (1980, 12575), (1981, 13976), (1982, 14434), (1983, 15544), (1984, 17121), (1985, 18237), (1986, 19071), (1987, 20039), (1988, 21417), (1989, 22857), (1990, 23889), (1991, 24342), (1992, 25419), (1993, 26387), (1994, 27695), (1995, 28691), (1996, 29968), (1997, 31459), (1998, 32854), (1999, 34515), (2000, 36330), (2001, 37134), (2002, 37998), (2003, 39490), (2004, 41725), (2005, 44123), (2006, 46302), (2007, 48050), (2008, 48570), (2009, 47195), (2010, 48651), (2011, 50066), (2012, 51784), (2013, 53291), (2014, 55124), (2015, 56763), (2016, 57867), (2017, 59915), (2018, 62805), (2019, 65095), (2020, 63028), (2021, 69288))\n"
     ]
    }
   ],
   "source": [
    "T = (3007, 3067, 3244, 3375,3574, 3828, 4146, 4336, 4696, 5032,5234,5609,6094,6726,7226,7801,8592,9453,10565,11674,12575,13976,14434,15544,17121,18237,19071,20039,21417,22857,23889,24342,25419,26387,27695,28691,29968,31459,32854,34515,36330,37134,37998,39490,41725,44123,46302,48050,48570,47195,48651,50066,51784,53291,55124,56763,57867,59915,62805,65095,63028,69288)\n",
    "\n",
    "# Determine the average GDP per capita for the given period (1960–2021).\n",
    "print(round(sum(T) / len(T), 2))\n",
    "\n",
    "# Identify the year with the highest GDP per capita. \n",
    "print(max(T))\n",
    "\n",
    "#Identify the year with the lowest GDP per capita.\n",
    "print(min(T))\n",
    "\n",
    "# Create a new tuple where each element represents the percentage change in GDP per capita compared to the previous year.\n",
    "Tnew = tuple(round((T[i] - (T[i-1])) / (T[i-1]) * 100, 2) for i in range(1, len(T)))\n",
    "print(Tnew)\n",
    "# or\n",
    "percent_change_list = []\n",
    "for i in range (1, len(T)):\n",
    "    GDP = T[i]\n",
    "    prev_GDP = T[i - 1]\n",
    "    percent_change = round(((GDP - prev_GDP) / prev_GDP) * 100, 2)\n",
    "    percent_change_list.append(percent_change)\n",
    "print(percent_change_list)\n",
    "\n",
    "# Identify the year with the highest percentage increase in GDP per capita.\n",
    "index_of_max = Tnew.index(max(Tnew))\n",
    "print(1960 + index_of_max)\n",
    "\n",
    "# Construct a tuple where each element is a pair in the format (year, GDP per capita), making it easier to analyze trends over time.\n",
    "Tnew2 = tuple((1960 + i, T[i]) for i in range(len(T)))\n",
    "print(Tnew2)\n"
   ]
  },
  {
   "cell_type": "markdown",
   "metadata": {},
   "source": [
    "## Data Structures Practice 5 - tuple"
   ]
  },
  {
   "cell_type": "code",
   "execution_count": null,
   "metadata": {},
   "outputs": [
    {
     "name": "stdout",
     "output_type": "stream",
     "text": [
      "1969\n",
      "1977\n",
      "1999\n",
      "2014\n"
     ]
    }
   ],
   "source": [
    "D_tuple = ((1960, 3007), (1961, 3067), (1962, 3244), (1963, 3375), (1964, 3574), (1965, 3828), \n",
    " (1966, 4146), (1967, 4336), (1968, 4696), (1970, 5234), (1971, 5609), (1972, 6094), \n",
    " (1973, 6726), (1974, 7226), (1975, 7801), (1976, 8592), (1978, 10565), (1979, 11674), \n",
    " (1980, 12575), (1981, 13976), (1982, 14434), (1983, 15544), (1984, 17121), (1985, 18237), \n",
    " (1986, 19071), (1987, 20039), (1988, 21417), (1989, 22857), (1990, 23889), (1991, 24342), \n",
    " (1992, 25419), (1993, 26387), (1994, 27695), (1995, 28691), (1996, 29968), (1997, 31459), \n",
    " (1998, 32854), (2000, 36330), (2001, 37134), (2002, 37998), (2003, 39490), (2004, 41725), \n",
    " (2005, 44123), (2006, 46302), (2007, 48050), (2008, 48570), (2009, 47195), (2010, 48651), \n",
    " (2011, 50066), (2012, 51784), (2013, 53291), (2015, 56763), (2016, 57867), (2017, 59915), \n",
    " (2018, 62805), (2019, 65095), (2020, 63028), (2021, 69288))\n",
    "\n",
    "# Determine which years between 1960 and 2021 are missing GDP per capita data.\n",
    "\n",
    "all_years_in_tuple = []\n",
    "for i in D_tuple:\n",
    "    all_years_in_tuple.append(i[0])\n",
    "\n",
    "for i in range(1960, 2022):\n",
    "    if i not in all_years_in_tuple:\n",
    "        print(i)\n"
   ]
  },
  {
   "cell_type": "markdown",
   "metadata": {},
   "source": [
    "## Data Structures Practice 6 - dict"
   ]
  },
  {
   "cell_type": "code",
   "execution_count": null,
   "metadata": {},
   "outputs": [
    {
     "name": "stdout",
     "output_type": "stream",
     "text": [
      "56763\n",
      "{'1960': 3007, '1961': 3067, '1962': 3244, '1963': 3375, '1964': 3574, '1965': 3828, '1966': 4146, '1967': 4336, '1968': 4696, '1970': 5234, '1971': 5609, '1972': 6094, '1973': 6726, '1974': 7226, '1975': 7801, '1976': 8592, '1978': 10565, '1979': 11674, '1980': 12575, '1981': 13976, '1982': 14434, '1983': 15544, '1984': 17121, '1985': 18237, '1986': 19071, '1987': 20039, '1988': 21417, '1989': 22857, '1990': 23889, '1991': 24342, '1992': 25419, '1993': 26387, '1994': 27695, '1995': 28691, '1996': 29968, '1997': 31459, '1998': 32854, '2000': 36330, '2001': 37134, '2002': 37998, '2003': 39490, '2004': 41725, '2005': 44123, '2006': 46302, '2007': 48050, '2008': 48570, '2009': 47195, '2010': 48651, '2011': 50066, '2012': 51784, '2013': 53291, '2015': 56763, '2016': 57867, '2017': 59915, '2018': 62805, '2019': 65095, '2020': 63028, '2021': 69288, '2014': 55027.0}\n",
      "1969 4965.0\n",
      "1977 9578.5\n",
      "1999 34592.0\n"
     ]
    }
   ],
   "source": [
    "D = {'1960':3007,'1961':3067,'1962':3244,'1963':3375,'1964':3574,'1965':3828,'1966':4146,'1967':4336,'1968':4696,'1970':5234,'1971':5609,'1972':6094,'1973':6726,'1974':7226,'1975':7801,'1976':8592,'1978':10565,'1979':11674, '1980':12575,'1981':13976,'1982':14434,'1983':15544,'1984':17121,'1985':18237,  '1986':19071,'1987':20039,'1988':21417,'1989':22857,'1990':23889,'1991':24342,  '1992':25419,'1993':26387,'1994':27695,'1995':28691,'1996':29968,'1997':31459,  '1998':32854,'2000':36330,'2001':37134,'2002':37998,'2003':39490,'2004':41725,  '2005':44123,'2006':46302,'2007':48050,'2008':48570,'2009':47195,'2010':48651,  '2011':50066,'2012':51784,'2013':53291,'2015':56763,'2016':57867,'2017':59915,'2018':62805, '2019':65095,'2020':63028,'2021':69288}\n",
    "\n",
    "# The GDP per capita in 2015\n",
    "print(D['2015'])\n",
    "\n",
    "# The GDP per capita of 2014 is missing. Update the dictionary to include the GDP per capita of 2014 as the average of the GDP per capita of 2013 and 2015.\n",
    "D['2014'] = (D['2013'] + D['2015']) / 2\n",
    "print(D)\n",
    "\n",
    "# Impute the GDP per capita of other missing years in the same manner as in (2), i.e., as the average GDP per capita of the previous year and the next year. Note that the GDP per capita is not missing for any two consecutive years.\n",
    "for i in range(1960, 2021):\n",
    "    if str(i) not in D.keys():\n",
    "        D[str(i)] = (D[str(i-1)] + D[str(i+1)]) / 2\n",
    "        print(i, D[str(i)])"
   ]
  },
  {
   "cell_type": "markdown",
   "metadata": {},
   "source": [
    "## Data Structures Practice 7 - dict"
   ]
  },
  {
   "cell_type": "code",
   "execution_count": null,
   "metadata": {},
   "outputs": [
    {
     "name": "stdout",
     "output_type": "stream",
     "text": [
      "<class 'dict'>\n",
      "<class 'str'>\n",
      "<class 'list'>\n",
      "5\n",
      "['Starbucks® Doubleshot Protein Dark Chocolate', 'Starbucks® Doubleshot Protein Vanilla', 'Chocolate Smoothie']\n",
      "['Starbucks® Doubleshot Protein Dark Chocolate', 'Starbucks® Doubleshot Protein Vanilla', 'Hot Chocolate', 'Starbucks® Signature Hot Chocolate', 'Caffè Latte', 'Caffè Mocha', 'Cinnamon Dolce Latte', 'Coconutmilk Mocha Macchiato', 'Flat White', 'Iced Coconutmilk Mocha Macchiato', 'Latte Macchiato', 'Vanilla Latte', 'White Chocolate Mocha', 'Cinnamon Dolce Frappuccino® Blended Coffee', 'Chocolate Smoothie', 'Strawberry Smoothie']\n"
     ]
    }
   ],
   "source": [
    "starbucks_drinks_nutrition={'Cool Lime Starbucks Refreshers™ Beverage': [{'Nutrition_type': 'Calories', 'value': 45}, {'Nutrition_type': 'Fat', 'value': 0.0}, {'Nutrition_type': 'Carb', 'value': 11}, {'Nutrition_type': 'Fiber', 'value': 0}, {'Nutrition_type': 'Protein', 'value': 0}, {'Nutrition_type': 'Sodium', 'value': 10}], 'Strawberry Acai Starbucks Refreshers™ Beverage': [{'Nutrition_type': 'Calories', 'value': 80}, {'Nutrition_type': 'Fat', 'value': 0.0}, {'Nutrition_type': 'Carb', 'value': 18}, {'Nutrition_type': 'Fiber', 'value': 1}, {'Nutrition_type': 'Protein', 'value': 0}, {'Nutrition_type': 'Sodium', 'value': 10}], 'Very Berry Hibiscus Starbucks Refreshers™ Beverage': [{'Nutrition_type': 'Calories', 'value': 60}, {'Nutrition_type': 'Fat', 'value': 0.0}, {'Nutrition_type': 'Carb', 'value': 14}, {'Nutrition_type': 'Fiber', 'value': 1}, {'Nutrition_type': 'Protein', 'value': 0}, {'Nutrition_type': 'Sodium', 'value': 10}], 'Evolution Fresh™ Organic Ginger Limeade': [{'Nutrition_type': 'Calories', 'value': 110}, {'Nutrition_type': 'Fat', 'value': 0.0}, {'Nutrition_type': 'Carb', 'value': 28}, {'Nutrition_type': 'Fiber', 'value': 0}, {'Nutrition_type': 'Protein', 'value': 0}, {'Nutrition_type': 'Sodium', 'value': 5}], 'Iced Coffee': [{'Nutrition_type': 'Calories', 'value': 5}, {'Nutrition_type': 'Fat', 'value': 0.0}, {'Nutrition_type': 'Carb', 'value': 0}, {'Nutrition_type': 'Fiber', 'value': 0}, {'Nutrition_type': 'Protein', 'value': 0}, {'Nutrition_type': 'Sodium', 'value': 5}], 'Iced Espresso Classics - Vanilla Latte': [{'Nutrition_type': 'Calories', 'value': 130}, {'Nutrition_type': 'Fat', 'value': 2.5}, {'Nutrition_type': 'Carb', 'value': 21}, {'Nutrition_type': 'Fiber', 'value': 0}, {'Nutrition_type': 'Protein', 'value': 5}, {'Nutrition_type': 'Sodium', 'value': 65}], 'Iced Espresso Classics - Caffe Mocha': [{'Nutrition_type': 'Calories', 'value': 140}, {'Nutrition_type': 'Fat', 'value': 2.5}, {'Nutrition_type': 'Carb', 'value': 23}, {'Nutrition_type': 'Fiber', 'value': 0}, {'Nutrition_type': 'Protein', 'value': 5}, {'Nutrition_type': 'Sodium', 'value': 90}], 'Iced Espresso Classics - Caramel Macchiato': [{'Nutrition_type': 'Calories', 'value': 130}, {'Nutrition_type': 'Fat', 'value': 2.5}, {'Nutrition_type': 'Carb', 'value': 21}, {'Nutrition_type': 'Fiber', 'value': 0}, {'Nutrition_type': 'Protein', 'value': 5}, {'Nutrition_type': 'Sodium', 'value': 65}], 'Shaken Sweet Tea': [{'Nutrition_type': 'Calories', 'value': 80}, {'Nutrition_type': 'Fat', 'value': 0.0}, {'Nutrition_type': 'Carb', 'value': 19}, {'Nutrition_type': 'Fiber', 'value': 0}, {'Nutrition_type': 'Protein', 'value': 0}, {'Nutrition_type': 'Sodium', 'value': 10}], 'Tazo® Bottled Berry Blossom White': [{'Nutrition_type': 'Calories', 'value': 60}, {'Nutrition_type': 'Fat', 'value': 0.0}, {'Nutrition_type': 'Carb', 'value': 15}, {'Nutrition_type': 'Fiber', 'value': 0}, {'Nutrition_type': 'Protein', 'value': 0}, {'Nutrition_type': 'Sodium', 'value': 10}], 'Tazo® Bottled Black Mango': [{'Nutrition_type': 'Calories', 'value': 150}, {'Nutrition_type': 'Fat', 'value': 0.0}, {'Nutrition_type': 'Carb', 'value': 38}, {'Nutrition_type': 'Fiber', 'value': 0}, {'Nutrition_type': 'Protein', 'value': 0}, {'Nutrition_type': 'Sodium', 'value': 15}], 'Tazo® Bottled Black with Lemon': [{'Nutrition_type': 'Calories', 'value': 140}, {'Nutrition_type': 'Fat', 'value': 0.0}, {'Nutrition_type': 'Carb', 'value': 35}, {'Nutrition_type': 'Fiber', 'value': 0}, {'Nutrition_type': 'Protein', 'value': 0}, {'Nutrition_type': 'Sodium', 'value': 10}], 'Tazo® Bottled Brambleberry': [{'Nutrition_type': 'Calories', 'value': 140}, {'Nutrition_type': 'Fat', 'value': 0.0}, {'Nutrition_type': 'Carb', 'value': 35}, {'Nutrition_type': 'Fiber', 'value': 0}, {'Nutrition_type': 'Protein', 'value': 0}, {'Nutrition_type': 'Sodium', 'value': 15}], 'Tazo® Bottled Giant Peach': [{'Nutrition_type': 'Calories', 'value': 150}, {'Nutrition_type': 'Fat', 'value': 0.0}, {'Nutrition_type': 'Carb', 'value': 37}, {'Nutrition_type': 'Fiber', 'value': 0}, {'Nutrition_type': 'Protein', 'value': 0}, {'Nutrition_type': 'Sodium', 'value': 15}], 'Tazo® Bottled Iced Passion': [{'Nutrition_type': 'Calories', 'value': 70}, {'Nutrition_type': 'Fat', 'value': 0.0}, {'Nutrition_type': 'Carb', 'value': 17}, {'Nutrition_type': 'Fiber', 'value': 0}, {'Nutrition_type': 'Protein', 'value': 0}, {'Nutrition_type': 'Sodium', 'value': 10}], 'Tazo® Bottled Lemon Ginger': [{'Nutrition_type': 'Calories', 'value': 120}, {'Nutrition_type': 'Fat', 'value': 0.0}, {'Nutrition_type': 'Carb', 'value': 31}, {'Nutrition_type': 'Fiber', 'value': 0}, {'Nutrition_type': 'Protein', 'value': 0}, {'Nutrition_type': 'Sodium', 'value': 10}], 'Tazo® Bottled Organic Black Lemonade': [{'Nutrition_type': 'Calories', 'value': 140}, {'Nutrition_type': 'Fat', 'value': 0.0}, {'Nutrition_type': 'Carb', 'value': 35}, {'Nutrition_type': 'Fiber', 'value': 0}, {'Nutrition_type': 'Protein', 'value': 0}, {'Nutrition_type': 'Sodium', 'value': 10}], 'Tazo® Bottled Organic Iced Black Tea': [{'Nutrition_type': 'Calories', 'value': 60}, {'Nutrition_type': 'Fat', 'value': 0.0}, {'Nutrition_type': 'Carb', 'value': 15}, {'Nutrition_type': 'Fiber', 'value': 0}, {'Nutrition_type': 'Protein', 'value': 0}, {'Nutrition_type': 'Sodium', 'value': 10}], 'Tazo® Bottled Organic Iced Green Tea': [{'Nutrition_type': 'Calories', 'value': 120}, {'Nutrition_type': 'Fat', 'value': 0.0}, {'Nutrition_type': 'Carb', 'value': 31}, {'Nutrition_type': 'Fiber', 'value': 0}, {'Nutrition_type': 'Protein', 'value': 0}, {'Nutrition_type': 'Sodium', 'value': 10}], 'Tazo® Bottled Plum Pomegranate': [{'Nutrition_type': 'Calories', 'value': 140}, {'Nutrition_type': 'Fat', 'value': 0.0}, {'Nutrition_type': 'Carb', 'value': 35}, {'Nutrition_type': 'Fiber', 'value': 0}, {'Nutrition_type': 'Protein', 'value': 0}, {'Nutrition_type': 'Sodium', 'value': 10}], 'Tazo® Bottled Tazoberry': [{'Nutrition_type': 'Calories', 'value': 150}, {'Nutrition_type': 'Fat', 'value': 0.0}, {'Nutrition_type': 'Carb', 'value': 38}, {'Nutrition_type': 'Fiber', 'value': 0}, {'Nutrition_type': 'Protein', 'value': 0}, {'Nutrition_type': 'Sodium', 'value': 15}], 'Tazo® Bottled White Cranberry': [{'Nutrition_type': 'Calories', 'value': 140}, {'Nutrition_type': 'Fat', 'value': 0.0}, {'Nutrition_type': 'Carb', 'value': 35}, {'Nutrition_type': 'Fiber', 'value': 0}, {'Nutrition_type': 'Protein', 'value': 0}, {'Nutrition_type': 'Sodium', 'value': 10}], 'Teavana® Shaken Iced Black Tea': [{'Nutrition_type': 'Calories', 'value': 30}, {'Nutrition_type': 'Fat', 'value': 0.0}, {'Nutrition_type': 'Carb', 'value': 8}, {'Nutrition_type': 'Fiber', 'value': 0}, {'Nutrition_type': 'Protein', 'value': 0}, {'Nutrition_type': 'Sodium', 'value': 5}], 'Teavana® Shaken Iced Black Tea Lemonade': [{'Nutrition_type': 'Calories', 'value': 70}, {'Nutrition_type': 'Fat', 'value': 0.0}, {'Nutrition_type': 'Carb', 'value': 17}, {'Nutrition_type': 'Fiber', 'value': 0}, {'Nutrition_type': 'Protein', 'value': 0}, {'Nutrition_type': 'Sodium', 'value': 0}], 'Teavana® Shaken Iced Green Tea': [{'Nutrition_type': 'Calories', 'value': 30}, {'Nutrition_type': 'Fat', 'value': 0.0}, {'Nutrition_type': 'Carb', 'value': 8}, {'Nutrition_type': 'Fiber', 'value': 0}, {'Nutrition_type': 'Protein', 'value': 0}, {'Nutrition_type': 'Sodium', 'value': 5}], 'Teavana® Shaken Iced Green Tea Lemonade': [{'Nutrition_type': 'Calories', 'value': 70}, {'Nutrition_type': 'Fat', 'value': 0.0}, {'Nutrition_type': 'Carb', 'value': 17}, {'Nutrition_type': 'Fiber', 'value': 0}, {'Nutrition_type': 'Protein', 'value': 0}, {'Nutrition_type': 'Sodium', 'value': 5}], 'Teavana® Shaken Iced Passion Tango™ Tea': [{'Nutrition_type': 'Calories', 'value': 30}, {'Nutrition_type': 'Fat', 'value': 0.0}, {'Nutrition_type': 'Carb', 'value': 8}, {'Nutrition_type': 'Fiber', 'value': 0}, {'Nutrition_type': 'Protein', 'value': 0}, {'Nutrition_type': 'Sodium', 'value': 5}], 'Teavana® Shaken Iced Passion Tango™ Tea Lemonade': [{'Nutrition_type': 'Calories', 'value': 90}, {'Nutrition_type': 'Fat', 'value': 0.0}, {'Nutrition_type': 'Carb', 'value': 24}, {'Nutrition_type': 'Fiber', 'value': 0}, {'Nutrition_type': 'Protein', 'value': 0}, {'Nutrition_type': 'Sodium', 'value': 0}], 'Teavana® Shaken Iced Peach Green Tea': [{'Nutrition_type': 'Calories', 'value': 60}, {'Nutrition_type': 'Fat', 'value': 0.0}, {'Nutrition_type': 'Carb', 'value': 15}, {'Nutrition_type': 'Fiber', 'value': 0}, {'Nutrition_type': 'Protein', 'value': 0}, {'Nutrition_type': 'Sodium', 'value': 0}], 'Starbucks Refreshers™ Raspberry Pomegranate': [{'Nutrition_type': 'Calories', 'value': 90}, {'Nutrition_type': 'Fat', 'value': 0.0}, {'Nutrition_type': 'Carb', 'value': 27}, {'Nutrition_type': 'Fiber', 'value': 0}, {'Nutrition_type': 'Protein', 'value': 0}, {'Nutrition_type': 'Sodium', 'value': 0}], 'Starbucks Refreshers™ Strawberry Lemonade': [{'Nutrition_type': 'Calories', 'value': 90}, {'Nutrition_type': 'Fat', 'value': 0.0}, {'Nutrition_type': 'Carb', 'value': 27}, {'Nutrition_type': 'Fiber', 'value': 0}, {'Nutrition_type': 'Protein', 'value': 0}, {'Nutrition_type': 'Sodium', 'value': 0}], 'Starbucks® Doubleshot Protein Dark Chocolate': [{'Nutrition_type': 'Calories', 'value': 210}, {'Nutrition_type': 'Fat', 'value': 2.5}, {'Nutrition_type': 'Carb', 'value': 33}, {'Nutrition_type': 'Fiber', 'value': 2}, {'Nutrition_type': 'Protein', 'value': 20}, {'Nutrition_type': 'Sodium', 'value': 115}], 'Starbucks® Doubleshot Protein Vanilla': [{'Nutrition_type': 'Calories', 'value': 200}, {'Nutrition_type': 'Fat', 'value': 2.5}, {'Nutrition_type': 'Carb', 'value': 34}, {'Nutrition_type': 'Fiber', 'value': 2}, {'Nutrition_type': 'Protein', 'value': 20}, {'Nutrition_type': 'Sodium', 'value': 120}], 'Starbucks® Iced Coffee Caramel': [{'Nutrition_type': 'Calories', 'value': 60}, {'Nutrition_type': 'Fat', 'value': 0.0}, {'Nutrition_type': 'Carb', 'value': 13}, {'Nutrition_type': 'Fiber', 'value': 0}, {'Nutrition_type': 'Protein', 'value': 1}, {'Nutrition_type': 'Sodium', 'value': 0}], 'Starbucks® Iced Coffee Light Sweetened': [{'Nutrition_type': 'Calories', 'value': 50}, {'Nutrition_type': 'Fat', 'value': 0.0}, {'Nutrition_type': 'Carb', 'value': 11}, {'Nutrition_type': 'Fiber', 'value': 0}, {'Nutrition_type': 'Protein', 'value': 1}, {'Nutrition_type': 'Sodium', 'value': 0}], 'Starbucks® Iced Coffee Unsweetened': [{'Nutrition_type': 'Calories', 'value': 10}, {'Nutrition_type': 'Fat', 'value': 0.0}, {'Nutrition_type': 'Carb', 'value': 2}, {'Nutrition_type': 'Fiber', 'value': 0}, {'Nutrition_type': 'Protein', 'value': 1}, {'Nutrition_type': 'Sodium', 'value': 0}], 'Blonde Roast': [{'Nutrition_type': 'Calories', 'value': 5}, {'Nutrition_type': 'Fat', 'value': 0.0}, {'Nutrition_type': 'Carb', 'value': 0}, {'Nutrition_type': 'Fiber', 'value': 0}, {'Nutrition_type': 'Protein', 'value': 1}, {'Nutrition_type': 'Sodium', 'value': 10}], 'Clover® Brewed Coffee': [{'Nutrition_type': 'Calories', 'value': 10}, {'Nutrition_type': 'Fat', 'value': 0.0}, {'Nutrition_type': 'Carb', 'value': 0}, {'Nutrition_type': 'Fiber', 'value': 0}, {'Nutrition_type': 'Protein', 'value': 1}, {'Nutrition_type': 'Sodium', 'value': 10}], 'Decaf Pike Place® Roast': [{'Nutrition_type': 'Calories', 'value': 5}, {'Nutrition_type': 'Fat', 'value': 0.0}, {'Nutrition_type': 'Carb', 'value': 0}, {'Nutrition_type': 'Fiber', 'value': 0}, {'Nutrition_type': 'Protein', 'value': 1}, {'Nutrition_type': 'Sodium', 'value': 10}], 'Featured Dark Roast': [{'Nutrition_type': 'Calories', 'value': 5}, {'Nutrition_type': 'Fat', 'value': 0.0}, {'Nutrition_type': 'Carb', 'value': 0}, {'Nutrition_type': 'Fiber', 'value': 0}, {'Nutrition_type': 'Protein', 'value': 1}, {'Nutrition_type': 'Sodium', 'value': 10}], 'Nariño 70 Cold Brew': [{'Nutrition_type': 'Calories', 'value': 5}, {'Nutrition_type': 'Fat', 'value': 0.0}, {'Nutrition_type': 'Carb', 'value': 0}, {'Nutrition_type': 'Fiber', 'value': 0}, {'Nutrition_type': 'Protein', 'value': 0}, {'Nutrition_type': 'Sodium', 'value': 15}], 'Nariño 70 Cold Brew with Milk': [{'Nutrition_type': 'Calories', 'value': 0}, {'Nutrition_type': 'Fat', 'value': 0.0}, {'Nutrition_type': 'Carb', 'value': 0}, {'Nutrition_type': 'Fiber', 'value': 0}, {'Nutrition_type': 'Protein', 'value': 0}, {'Nutrition_type': 'Sodium', 'value': 0}], 'Nitro Cold Brew': [{'Nutrition_type': 'Calories', 'value': 5}, {'Nutrition_type': 'Fat', 'value': 0.0}, {'Nutrition_type': 'Carb', 'value': 0}, {'Nutrition_type': 'Fiber', 'value': 0}, {'Nutrition_type': 'Protein', 'value': 0}, {'Nutrition_type': 'Sodium', 'value': 10}], 'Nitro Cold Brew with Sweet Cream': [{'Nutrition_type': 'Calories', 'value': 70}, {'Nutrition_type': 'Fat', 'value': 5.0}, {'Nutrition_type': 'Carb', 'value': 5}, {'Nutrition_type': 'Fiber', 'value': 0}, {'Nutrition_type': 'Protein', 'value': 1}, {'Nutrition_type': 'Sodium', 'value': 20}], 'Pike Place® Roast': [{'Nutrition_type': 'Calories', 'value': 5}, {'Nutrition_type': 'Fat', 'value': 0.0}, {'Nutrition_type': 'Carb', 'value': 0}, {'Nutrition_type': 'Fiber', 'value': 0}, {'Nutrition_type': 'Protein', 'value': 1}, {'Nutrition_type': 'Sodium', 'value': 10}], 'Vanilla Sweet Cream Cold Brew': [{'Nutrition_type': 'Calories', 'value': 110}, {'Nutrition_type': 'Fat', 'value': 6.0}, {'Nutrition_type': 'Carb', 'value': 14}, {'Nutrition_type': 'Fiber', 'value': 0}, {'Nutrition_type': 'Protein', 'value': 1}, {'Nutrition_type': 'Sodium', 'value': 25}], 'Hot Chocolate': [{'Nutrition_type': 'Calories', 'value': 320}, {'Nutrition_type': 'Fat', 'value': 9.0}, {'Nutrition_type': 'Carb', 'value': 47}, {'Nutrition_type': 'Fiber', 'value': 4}, {'Nutrition_type': 'Protein', 'value': 14}, {'Nutrition_type': 'Sodium', 'value': 160}], 'Starbucks® Signature Hot Chocolate': [{'Nutrition_type': 'Calories', 'value': 430}, {'Nutrition_type': 'Fat', 'value': 26.0}, {'Nutrition_type': 'Carb', 'value': 45}, {'Nutrition_type': 'Fiber', 'value': 5}, {'Nutrition_type': 'Protein', 'value': 12}, {'Nutrition_type': 'Sodium', 'value': 115}], 'Caffè Latte': [{'Nutrition_type': 'Calories', 'value': 190}, {'Nutrition_type': 'Fat', 'value': 7.0}, {'Nutrition_type': 'Carb', 'value': 19}, {'Nutrition_type': 'Fiber', 'value': 0}, {'Nutrition_type': 'Protein', 'value': 13}, {'Nutrition_type': 'Sodium', 'value': 170}], 'Caffè Mocha': [{'Nutrition_type': 'Calories', 'value': 290}, {'Nutrition_type': 'Fat', 'value': 8.0}, {'Nutrition_type': 'Carb', 'value': 42}, {'Nutrition_type': 'Fiber', 'value': 4}, {'Nutrition_type': 'Protein', 'value': 13}, {'Nutrition_type': 'Sodium', 'value': 140}], 'Cappuccino': [{'Nutrition_type': 'Calories', 'value': 120}, {'Nutrition_type': 'Fat', 'value': 4.0}, {'Nutrition_type': 'Carb', 'value': 12}, {'Nutrition_type': 'Fiber', 'value': 0}, {'Nutrition_type': 'Protein', 'value': 8}, {'Nutrition_type': 'Sodium', 'value': 100}], 'Caramel Macchiato': [{'Nutrition_type': 'Calories', 'value': 250}, {'Nutrition_type': 'Fat', 'value': 7.0}, {'Nutrition_type': 'Carb', 'value': 35}, {'Nutrition_type': 'Fiber', 'value': 0}, {'Nutrition_type': 'Protein', 'value': 10}, {'Nutrition_type': 'Sodium', 'value': 150}], 'Cinnamon Dolce Latte': [{'Nutrition_type': 'Calories', 'value': 260}, {'Nutrition_type': 'Fat', 'value': 6.0}, {'Nutrition_type': 'Carb', 'value': 40}, {'Nutrition_type': 'Fiber', 'value': 0}, {'Nutrition_type': 'Protein', 'value': 11}, {'Nutrition_type': 'Sodium', 'value': 150}], 'Coconutmilk Mocha Macchiato': [{'Nutrition_type': 'Calories', 'value': 250}, {'Nutrition_type': 'Fat', 'value': 9.0}, {'Nutrition_type': 'Carb', 'value': 32}, {'Nutrition_type': 'Fiber', 'value': 0}, {'Nutrition_type': 'Protein', 'value': 12}, {'Nutrition_type': 'Sodium', 'value': 180}], 'Flat White': [{'Nutrition_type': 'Calories', 'value': 180}, {'Nutrition_type': 'Fat', 'value': 7.0}, {'Nutrition_type': 'Carb', 'value': 18}, {'Nutrition_type': 'Fiber', 'value': 0}, {'Nutrition_type': 'Protein', 'value': 12}, {'Nutrition_type': 'Sodium', 'value': 160}], 'Iced Caffè Latte': [{'Nutrition_type': 'Calories', 'value': 130}, {'Nutrition_type': 'Fat', 'value': 4.5}, {'Nutrition_type': 'Carb', 'value': 13}, {'Nutrition_type': 'Fiber', 'value': 0}, {'Nutrition_type': 'Protein', 'value': 8}, {'Nutrition_type': 'Sodium', 'value': 115}], 'Iced Caffè Mocha': [{'Nutrition_type': 'Calories', 'value': 230}, {'Nutrition_type': 'Fat', 'value': 6.0}, {'Nutrition_type': 'Carb', 'value': 36}, {'Nutrition_type': 'Fiber', 'value': 4}, {'Nutrition_type': 'Protein', 'value': 9}, {'Nutrition_type': 'Sodium', 'value': 90}], 'Iced Caramel Macchiato': [{'Nutrition_type': 'Calories', 'value': 250}, {'Nutrition_type': 'Fat', 'value': 7.0}, {'Nutrition_type': 'Carb', 'value': 37}, {'Nutrition_type': 'Fiber', 'value': 0}, {'Nutrition_type': 'Protein', 'value': 10}, {'Nutrition_type': 'Sodium', 'value': 150}], 'Iced Cinnamon Dolce Latte': [{'Nutrition_type': 'Calories', 'value': 200}, {'Nutrition_type': 'Fat', 'value': 4.0}, {'Nutrition_type': 'Carb', 'value': 34}, {'Nutrition_type': 'Fiber', 'value': 0}, {'Nutrition_type': 'Protein', 'value': 7}, {'Nutrition_type': 'Sodium', 'value': 95}], 'Iced Coconutmilk Mocha Macchiato': [{'Nutrition_type': 'Calories', 'value': 260}, {'Nutrition_type': 'Fat', 'value': 9.0}, {'Nutrition_type': 'Carb', 'value': 34}, {'Nutrition_type': 'Fiber', 'value': 0}, {'Nutrition_type': 'Protein', 'value': 11}, {'Nutrition_type': 'Sodium', 'value': 180}], 'Iced Vanilla Latte': [{'Nutrition_type': 'Calories', 'value': 190}, {'Nutrition_type': 'Fat', 'value': 4.0}, {'Nutrition_type': 'Carb', 'value': 30}, {'Nutrition_type': 'Fiber', 'value': 0}, {'Nutrition_type': 'Protein', 'value': 7}, {'Nutrition_type': 'Sodium', 'value': 100}], 'Iced White Chocolate Mocha': [{'Nutrition_type': 'Calories', 'value': 300}, {'Nutrition_type': 'Fat', 'value': 8.0}, {'Nutrition_type': 'Carb', 'value': 47}, {'Nutrition_type': 'Fiber', 'value': 0}, {'Nutrition_type': 'Protein', 'value': 10}, {'Nutrition_type': 'Sodium', 'value': 190}], 'Latte Macchiato': [{'Nutrition_type': 'Calories', 'value': 190}, {'Nutrition_type': 'Fat', 'value': 7.0}, {'Nutrition_type': 'Carb', 'value': 19}, {'Nutrition_type': 'Fiber', 'value': 0}, {'Nutrition_type': 'Protein', 'value': 12}, {'Nutrition_type': 'Sodium', 'value': 160}], 'Starbucks Doubleshot® on Ice Beverage': [{'Nutrition_type': 'Calories', 'value': 45}, {'Nutrition_type': 'Fat', 'value': 1.0}, {'Nutrition_type': 'Carb', 'value': 5}, {'Nutrition_type': 'Fiber', 'value': 0}, {'Nutrition_type': 'Protein', 'value': 3}, {'Nutrition_type': 'Sodium', 'value': 40}], 'Vanilla Latte': [{'Nutrition_type': 'Calories', 'value': 250}, {'Nutrition_type': 'Fat', 'value': 6.0}, {'Nutrition_type': 'Carb', 'value': 37}, {'Nutrition_type': 'Fiber', 'value': 0}, {'Nutrition_type': 'Protein', 'value': 12}, {'Nutrition_type': 'Sodium', 'value': 150}], 'White Chocolate Mocha': [{'Nutrition_type': 'Calories', 'value': 360}, {'Nutrition_type': 'Fat', 'value': 11.0}, {'Nutrition_type': 'Carb', 'value': 53}, {'Nutrition_type': 'Fiber', 'value': 0}, {'Nutrition_type': 'Protein', 'value': 14}, {'Nutrition_type': 'Sodium', 'value': 240}], 'Cinnamon Dolce Frappuccino® Blended Coffee': [{'Nutrition_type': 'Calories', 'value': 350}, {'Nutrition_type': 'Fat', 'value': 4.5}, {'Nutrition_type': 'Carb', 'value': 64}, {'Nutrition_type': 'Fiber', 'value': 0}, {'Nutrition_type': 'Protein', 'value': 15}, {'Nutrition_type': 'Sodium', 'value': 0}], 'Coffee Light Frappuccino® Blended Coffee': [{'Nutrition_type': 'Calories', 'value': 110}, {'Nutrition_type': 'Fat', 'value': 0.0}, {'Nutrition_type': 'Carb', 'value': 24}, {'Nutrition_type': 'Fiber', 'value': 0}, {'Nutrition_type': 'Protein', 'value': 3}, {'Nutrition_type': 'Sodium', 'value': 200}], 'Mocha Frappuccino® Blended Coffee': [{'Nutrition_type': 'Calories', 'value': 280}, {'Nutrition_type': 'Fat', 'value': 2.5}, {'Nutrition_type': 'Carb', 'value': 60}, {'Nutrition_type': 'Fiber', 'value': 2}, {'Nutrition_type': 'Protein', 'value': 4}, {'Nutrition_type': 'Sodium', 'value': 220}], 'Mocha Light Frappuccino® Blended Coffee': [{'Nutrition_type': 'Calories', 'value': 140}, {'Nutrition_type': 'Fat', 'value': 0.5}, {'Nutrition_type': 'Carb', 'value': 28}, {'Nutrition_type': 'Fiber', 'value': 1}, {'Nutrition_type': 'Protein', 'value': 4}, {'Nutrition_type': 'Sodium', 'value': 180}], 'Cinnamon Dolce Crème': [{'Nutrition_type': 'Calories', 'value': 200}, {'Nutrition_type': 'Fat', 'value': 6.0}, {'Nutrition_type': 'Carb', 'value': 28}, {'Nutrition_type': 'Fiber', 'value': 0}, {'Nutrition_type': 'Protein', 'value': 10}, {'Nutrition_type': 'Sodium', 'value': 135}], 'Vanilla Crème': [{'Nutrition_type': 'Calories', 'value': 200}, {'Nutrition_type': 'Fat', 'value': 6.0}, {'Nutrition_type': 'Carb', 'value': 28}, {'Nutrition_type': 'Fiber', 'value': 0}, {'Nutrition_type': 'Protein', 'value': 10}, {'Nutrition_type': 'Sodium', 'value': 135}], 'Chocolate Smoothie': [{'Nutrition_type': 'Calories', 'value': 320}, {'Nutrition_type': 'Fat', 'value': 5.0}, {'Nutrition_type': 'Carb', 'value': 53}, {'Nutrition_type': 'Fiber', 'value': 8}, {'Nutrition_type': 'Protein', 'value': 20}, {'Nutrition_type': 'Sodium', 'value': 170}], 'Strawberry Smoothie': [{'Nutrition_type': 'Calories', 'value': 300}, {'Nutrition_type': 'Fat', 'value': 2.0}, {'Nutrition_type': 'Carb', 'value': 60}, {'Nutrition_type': 'Fiber', 'value': 7}, {'Nutrition_type': 'Protein', 'value': 16}, {'Nutrition_type': 'Sodium', 'value': 130}]}\n",
    "\n",
    "# What is the datatype of the object?\n",
    "print(type(starbucks_drinks_nutrition))\n",
    "\n",
    "# If the object in (1) is a dictionary, what is the datatype of the values of the dictionary? What about the elements within the values?\n",
    "for key, value in starbucks_drinks_nutrition.items():\n",
    "    print(type(value))\n",
    "    break\n",
    "for _, nutrition in starbucks_drinks_nutrition.items(): #_ here is a placeholder since we don't need the key\n",
    "    for nutrient in nutrition:\n",
    "        print(type(nutrient))\n",
    "        break\n",
    "    break\n",
    "\n",
    "# How many calories are there in Iced Coffee?\n",
    "iced_coffee_nutrition = starbucks_drinks_nutrition['Iced Coffee']\n",
    "for i in iced_coffee_nutrition:\n",
    "    if i['Nutrition_type'] == 'Calories':\n",
    "        print(i['value'])\n",
    "        break\n",
    "\n",
    "# Which drink(s) have the highest amount of protein in them, and what is that protein amount?\n",
    "highest_protein_drink = []\n",
    "max_protein_value = 0\n",
    "for key, value in starbucks_drinks_nutrition.items():\n",
    "    for item in value:\n",
    "        if item['Nutrition_type'] == 'Protein':\n",
    "            protein_value = item['value']\n",
    "            if protein_value > max_protein_value:\n",
    "                max_protein_value = protein_value\n",
    "                highest_protein_drink = [key]\n",
    "            elif protein_value == max_protein_value:\n",
    "                highest_protein_drink.append(key)\n",
    "print(highest_protein_drink)\n",
    "\n",
    "# Which drink(s) have a fat content of more than 10g, and what is their fat content?\n",
    "fat_more_than_ten_drink = []\n",
    "for key, value in starbucks_drinks_nutrition.items():\n",
    "    for item in value:\n",
    "        if item['Nutrition_type'] == 'Protein':\n",
    "            fat_value = item['value']\n",
    "            if fat_value > 10:\n",
    "                fat_more_than_ten_drink.append(key)\n",
    "            else:\n",
    "                break\n",
    "print(fat_more_than_ten_drink)\n"
   ]
  },
  {
   "cell_type": "markdown",
   "metadata": {},
   "source": [
    "## Iterables Practice in lecture"
   ]
  },
  {
   "cell_type": "code",
   "execution_count": 9,
   "metadata": {},
   "outputs": [
    {
     "name": "stdout",
     "output_type": "stream",
     "text": [
      "[2.0, 5.77, 4.04, 5.9, 7.11, 8.31, 4.58, 8.3, 7.16, 4.01, 7.16, 8.65, 10.37, 7.43, 7.96, 10.14, 10.02, 11.76, 10.5, 7.72, 11.14, 3.28, 7.69, 10.15, 6.52, 4.57, 5.08, 6.88, 6.72, 4.52, 1.9, 4.42, 3.81, 4.96, 3.6, 4.45, 4.98, 4.43, 5.06, 5.26, 2.21, 2.33, 3.93, 5.66, 5.75, 4.94, 3.78, 1.08, -2.83, 3.09, 2.91, 3.43, 2.91, 3.44, 2.97, 1.94, 3.54, 4.82, 3.65, -3.18, 9.93]\n",
      "{'1960': 2.0, '1961': 5.77, '1962': 4.04, '1963': 5.9, '1964': 7.11, '1965': 8.31, '1966': 4.58, '1967': 8.3, '1968': 7.16, '1970': 4.01, '1971': 7.16, '1972': 8.65, '1973': 10.37, '1974': 7.43, '1975': 7.96, '1976': 10.14, '1978': 10.02, '1979': 11.76, '1980': 10.5, '1981': 7.72, '1982': 11.14, '1983': 3.28, '1984': 7.69, '1985': 10.15, '1986': 6.52, '1987': 4.57, '1988': 5.08, '1989': 6.88, '1990': 6.72, '1991': 4.52, '1992': 1.9, '1993': 4.42, '1994': 3.81, '1995': 4.96, '1996': 3.6, '1997': 4.45, '1998': 4.98, '2000': 4.43, '2001': 5.06, '2002': 5.26, '2003': 2.21, '2004': 2.33, '2005': 3.93, '2006': 5.66, '2007': 5.75, '2008': 4.94, '2009': 3.78, '2010': 1.08, '2011': -2.83, '2012': 3.09, '2013': 2.91, '2015': 3.43, '2016': 2.91, '2017': 3.44, '2018': 2.97, '2019': 1.94, '2020': 3.54, '2021': 4.82}\n",
      "1979\n",
      "11.76\n"
     ]
    }
   ],
   "source": [
    "T = (3007, 3067, 3244, 3375,3574, 3828, 4146, 4336, 4696, 5032,5234,5609,6094,6726,7226,7801,8592,9453,10565,11674,12575,13976,14434,15544,17121,18237,19071,20039,21417,22857,23889,24342,25419,26387,27695,28691,29968,31459,32854,34515,36330,37134,37998,39490,41725,44123,46302,48050,48570,47195,48651,50066,51784,53291,55124,56763,57867,59915,62805,65095,63028,69288)\n",
    "D = {'1960':3007,'1961':3067,'1962':3244,'1963':3375,'1964':3574,'1965':3828,'1966':4146,'1967':4336,'1968':4696,'1970':5234,'1971':5609,'1972':6094,'1973':6726,'1974':7226,'1975':7801,'1976':8592,'1978':10565,'1979':11674, '1980':12575,'1981':13976,'1982':14434,'1983':15544,'1984':17121,'1985':18237,  '1986':19071,'1987':20039,'1988':21417,'1989':22857,'1990':23889,'1991':24342,  '1992':25419,'1993':26387,'1994':27695,'1995':28691,'1996':29968,'1997':31459,  '1998':32854,'2000':36330,'2001':37134,'2002':37998,'2003':39490,'2004':41725,  '2005':44123,'2006':46302,'2007':48050,'2008':48570,'2009':47195,'2010':48651,  '2011':50066,'2012':51784,'2013':53291,'2015':56763,'2016':57867,'2017':59915,'2018':62805, '2019':65095,'2020':63028,'2021':69288}\n",
    "\n",
    "# calculate percent change in GDP per capita for each year\n",
    "percent_change_list = []\n",
    "for i in range (1, len(T)):\n",
    "    GDP = T[i]\n",
    "    prev_GDP = T[i - 1]\n",
    "    percent_change = round(((GDP - prev_GDP) / prev_GDP) * 100, 2)\n",
    "    percent_change_list.append(percent_change)\n",
    "print(percent_change_list)\n",
    "\n",
    "# create a dictionary with years as keys and percentage changes as values (says typeerror because my D list isn't correct)\n",
    "new_dict = {}\n",
    "years = sorted(D.keys())\n",
    "new_dict = dict(zip(years, percent_change_list))\n",
    "print(new_dict)\n",
    "\n",
    "# remove first element from new_dict\n",
    "new_dict.pop(\"1960\")\n",
    "\n",
    "# get year with highest percent change\n",
    "highest_year = max(new_dict, key=new_dict.get)\n",
    "highest_change = new_dict[highest_year]\n",
    "print(highest_year)\n",
    "print(highest_change)\n",
    "\n",
    "\n",
    "# calculate percentage change only for consecutive years\n",
    "percent_change_skip = []\n",
    "for i in range(1, len(years)):\n",
    "    current_year = years[i]\n",
    "    previous_year = years[i-1]\n",
    "    if int(current_year) - int(previous_year) == 1:\n",
    "        1"
   ]
  }
 ],
 "metadata": {
  "kernelspec": {
   "display_name": ".venv",
   "language": "python",
   "name": "python3"
  },
  "language_info": {
   "codemirror_mode": {
    "name": "ipython",
    "version": 3
   },
   "file_extension": ".py",
   "mimetype": "text/x-python",
   "name": "python",
   "nbconvert_exporter": "python",
   "pygments_lexer": "ipython3",
   "version": "3.13.2"
  }
 },
 "nbformat": 4,
 "nbformat_minor": 2
}
