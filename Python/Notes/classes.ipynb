{
 "cells": [
  {
   "cell_type": "code",
   "execution_count": null,
   "metadata": {},
   "outputs": [
    {
     "name": "stdout",
     "output_type": "stream",
     "text": [
      "<class '__main__.Car'>\n",
      "<class '__main__.Car'>\n",
      "Toyota\n",
      "Honda\n",
      "Toyota is now moving at 20 mph.\n",
      "Honda slowed down to 0 mph.\n"
     ]
    }
   ],
   "source": [
    "class Car:\n",
    "    #__init__ is the defaulting thing that declares attributes. Automatically called when creating object\n",
    "    def __init__(self, brand, color, speed=0): #self does not need to be input as parameter\n",
    "        self.brand = brand      # Attribute\n",
    "        self.color = color      # Attribute\n",
    "        self.speed = speed      # Attribute\n",
    "\n",
    "    def accelerate(self, increment):\n",
    "        \"\"\"Increase the car's speed.\"\"\"\n",
    "        self.speed += increment\n",
    "        return f\"{self.brand} is now moving at {self.speed} mph.\"\n",
    "\n",
    "    def brake(self, decrement):\n",
    "        \"\"\"Decrease the car's speed.\"\"\"\n",
    "        self.speed = max(0, self.speed - decrement)\n",
    "        return f\"{self.brand} slowed down to {self.speed} mph.\"\n",
    "# Creating objects (instances of the Car class)\n",
    "car1 = Car(\"Toyota\", \"Red\")\n",
    "car2 = Car(\"Honda\", \"Blue\")\n",
    "\n",
    "print(type(car1))\n",
    "print(type(car2))\n",
    "print(car1.brand)\n",
    "print(car2.brand)\n",
    "\n",
    "print(car1.accelerate(20))\n",
    "print(car2.brake(10))"
   ]
  },
  {
   "cell_type": "code",
   "execution_count": null,
   "metadata": {},
   "outputs": [],
   "source": [
    "#constructors\n"
   ]
  }
 ],
 "metadata": {
  "kernelspec": {
   "display_name": ".venv",
   "language": "python",
   "name": "python3"
  },
  "language_info": {
   "codemirror_mode": {
    "name": "ipython",
    "version": 3
   },
   "file_extension": ".py",
   "mimetype": "text/x-python",
   "name": "python",
   "nbconvert_exporter": "python",
   "pygments_lexer": "ipython3",
   "version": "3.13.2"
  }
 },
 "nbformat": 4,
 "nbformat_minor": 2
}
