{
 "cells": [
  {
   "cell_type": "code",
   "execution_count": 1,
   "metadata": {},
   "outputs": [
    {
     "name": "stdout",
     "output_type": "stream",
     "text": [
      "10\n",
      "20\n",
      "30\n",
      "40\n",
      "50\n",
      "Iteration complete!\n"
     ]
    }
   ],
   "source": [
    "# Example: Manually Iterating Over an Iterable Using iter() and next()\n",
    "\n",
    "# Define an iterable, such as a list of numbers\n",
    "numbers = [10, 20, 30, 40, 50]\n",
    "\n",
    "# Obtain an iterator from the iterable\n",
    "iterator = iter(numbers)\n",
    "\n",
    "# Use a while loop to manually iterate over the elements\n",
    "while True:\n",
    "    try:\n",
    "        # Retrieve the next element in the iterator\n",
    "        number = next(iterator)\n",
    "        print(number)\n",
    "    except StopIteration:\n",
    "        # When there are no more elements, a StopIteration exception is raised.\n",
    "        print(\"Iteration complete!\")\n",
    "        break"
   ]
  },
  {
   "cell_type": "code",
   "execution_count": 11,
   "metadata": {},
   "outputs": [
    {
     "name": "stdout",
     "output_type": "stream",
     "text": [
      "1 2 3 4 5\n",
      "1\n",
      "[2, 3, 4]\n",
      "5\n",
      "1 2 3 4 5\n",
      "15\n"
     ]
    }
   ],
   "source": [
    "# Unpacking a list\n",
    "numbers = [1, 2, 3,4,5]\n",
    "a, b, c,d,e= numbers\n",
    "print(a, b, c,d,e)  # Output: 1 2 3\n",
    "\n",
    "#Unpacking with *\n",
    "a, *b, c = numbers\n",
    "print(a)  \n",
    "print(b)  \n",
    "print(c)  \n",
    "\n",
    "# unpacking a list or tuple\n",
    "def add(a, b, c,d,e):\n",
    "    return a + b + c+d+e\n",
    "print(*numbers)\n",
    "result = add(*numbers)\n",
    "print(result)  "
   ]
  },
  {
   "cell_type": "code",
   "execution_count": 23,
   "metadata": {},
   "outputs": [
    {
     "name": "stdout",
     "output_type": "stream",
     "text": [
      "Index: 0, Fruit: apple\n",
      "Index: 1, Fruit: banana\n",
      "Index: 2, Fruit: cherry\n",
      "[(1, 'apple'), (2, 'banana'), (3, 'cherry')]\n",
      "[(1, 'a'), (2, 'b'), (3, 'c')]\n",
      "{'name': 'Alice', 'age': 30, 'city': 'New York'}\n",
      "[(1, 2, 3), ('a', 'b', 'c')]\n"
     ]
    }
   ],
   "source": [
    "#enumerate(iterable, start=0)\n",
    "fruits = [\"apple\", \"banana\", \"cherry\"]\n",
    "\n",
    "for index, fruit in enumerate(fruits):\n",
    "    print(f\"Index: {index}, Fruit: {fruit}\")\n",
    "\n",
    "# using enumerate() with a list comprehension\n",
    "indexed_fruits = [(index, fruit) for index, fruit in enumerate(fruits, start=1)]\n",
    "print(indexed_fruits)\n",
    "\n",
    "#zip() combines iterables into a \"iterator\", which can be converted into lists or tuples or dicts\n",
    "list1 = [1, 2, 3]\n",
    "list2 = ['a', 'b', 'c']\n",
    "\n",
    "zipped = zip(list1, list2)\n",
    "print(list(zipped))  \n",
    "\n",
    "# Creating dictionaries from two list\n",
    "keys = ['name', 'age', 'city']\n",
    "values = ['Alice', 30, 'New York']\n",
    "\n",
    "dictionary = dict(zip(keys, values))\n",
    "print(dictionary)  \n",
    "\n",
    "#Unzipping\n",
    "zipped = [(1, 'a'), (2, 'b'), (3, 'c')]\n",
    "unzipped = zip(*zipped)\n",
    "print(list(unzipped))\n"
   ]
  }
 ],
 "metadata": {
  "kernelspec": {
   "display_name": ".venv",
   "language": "python",
   "name": "python3"
  },
  "language_info": {
   "codemirror_mode": {
    "name": "ipython",
    "version": 3
   },
   "file_extension": ".py",
   "mimetype": "text/x-python",
   "name": "python",
   "nbconvert_exporter": "python",
   "pygments_lexer": "ipython3",
   "version": "3.13.2"
  }
 },
 "nbformat": 4,
 "nbformat_minor": 2
}
