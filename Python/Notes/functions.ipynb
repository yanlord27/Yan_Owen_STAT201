{
 "cells": [
  {
   "cell_type": "code",
   "execution_count": null,
   "metadata": {},
   "outputs": [
    {
     "name": "stdout",
     "output_type": "stream",
     "text": [
      "1.7724538509055159\n"
     ]
    },
    {
     "data": {
      "text/plain": [
       "7"
      ]
     },
     "execution_count": 14,
     "metadata": {},
     "output_type": "execute_result"
    }
   ],
   "source": [
    "#Importing\n",
    "import math\n",
    "#math.pi gives pi\n",
    "\n",
    "\n",
    "from math import sqrt as s,pi\n",
    "print(s(pi))\n",
    "#This way you can use math functions without math.function\n",
    "\n",
    "\n",
    "from math import * #equivalent to: from math import (everything)\n",
    "\n",
    "import random as rm\n",
    "rm.randint(5,10) #This will generate a random number in [5,10], including 10"
   ]
  },
  {
   "cell_type": "code",
   "execution_count": null,
   "metadata": {},
   "outputs": [
    {
     "name": "stdout",
     "output_type": "stream",
     "text": [
      "Bob is 30 years old.\n",
      "Alice is 25 years old.\n",
      "Charlie is 40 years old.\n",
      "35 is David years old.\n",
      "I is 2 years old.\n"
     ]
    }
   ],
   "source": [
    "#User defined functions\n",
    "#Note: Default must come after required\n",
    "def describe_person(name, age=\"2\"):\n",
    "    print(f\"{name} is {age} years old.\")\n",
    "\n",
    "# Call with keyword arguments\n",
    "describe_person(name=\"Bob\", age=30)  # Output: Bob is 30 years old.\n",
    "describe_person(age=25, name=\"Alice\")  # Output: Alice is 25 years old.\n",
    "\n",
    "# Call without keywords (positional)\n",
    "describe_person(\"Charlie\", 40)  # Output: Charlie is 40 years old.\n",
    "describe_person(35, \"David\")  # Output: 35 is David years old.\n",
    "\n",
    "#Call with default\n",
    "describe_person(\"I\")"
   ]
  },
  {
   "cell_type": "code",
   "execution_count": null,
   "metadata": {},
   "outputs": [
    {
     "name": "stdout",
     "output_type": "stream",
     "text": [
      "The sum is 10.\n",
      "The sum is 30.\n",
      "The sum is 0.\n",
      "name: Alice\n",
      "age: 30\n",
      "city: Chicago\n"
     ]
    }
   ],
   "source": [
    "#*args for variable length arguments. Passed in as a tuple\n",
    "def sum_numbers(*args):\n",
    "    total = sum(args)\n",
    "    print(f\"The sum is {total}.\")\n",
    "\n",
    "# Call with multiple arguments\n",
    "sum_numbers(1, 2, 3, 4)  \n",
    "sum_numbers(10, 20)  \n",
    "\n",
    "# Call without arguments\n",
    "sum_numbers()  \n",
    "\n",
    "#**kwargs for Keyword Variable-Length Arguments. Passed in as a dictionary\n",
    "def print_details(**kwargs):\n",
    "    for key, value in kwargs.items():\n",
    "        print(f\"{key}: {value}\")\n",
    "\n",
    "# Call with keyword arguments\n",
    "print_details(name=\"Alice\", age=30, city=\"Chicago\")\n"
   ]
  },
  {
   "cell_type": "code",
   "execution_count": 23,
   "metadata": {},
   "outputs": [
    {
     "name": "stdout",
     "output_type": "stream",
     "text": [
      "Fixed argument: 1\n",
      "Args: (2, 3)\n",
      "Kwargs: {'name': 'Alice', 'age': 30}\n"
     ]
    }
   ],
   "source": [
    "#Mixed\n",
    "def mixed_function(a, *args, **kwargs):\n",
    "    print(f\"Fixed argument: {a}\")\n",
    "    print(f\"Args: {args}\")\n",
    "    print(f\"Kwargs: {kwargs}\")\n",
    "\n",
    "mixed_function(1, 2, 3, name=\"Alice\", age=30)"
   ]
  },
  {
   "cell_type": "code",
   "execution_count": null,
   "metadata": {},
   "outputs": [
    {
     "name": "stdout",
     "output_type": "stream",
     "text": [
      "Counter is now 1\n",
      "Counter is now 2\n",
      "2\n",
      "Inner function, x = 15\n",
      "Outer function, x = 15\n"
     ]
    }
   ],
   "source": [
    "#Global and Local variables\n",
    "\n",
    "counter = 0  # global variable\n",
    "\n",
    "#Note: If global counter is not there, there will be an error since python will treat it as a undeclared variable.\n",
    "def increment_counter():\n",
    "    global counter  # Tell Python we want to use the global 'counter'\n",
    "    counter += 1\n",
    "    print(\"Counter is now\", counter)\n",
    "\n",
    "increment_counter()  # Counter is now 1\n",
    "increment_counter()  # Counter is now 2\n",
    "print(counter)       \n",
    "\n",
    "#Nonlocal\n",
    "def outer_function():\n",
    "    x = 10\n",
    "\n",
    "    def inner_function():\n",
    "        #Tells python it's on the outside, but not the most outside\n",
    "        nonlocal x\n",
    "        x += 5\n",
    "        print(\"Inner function, x =\", x)\n",
    "\n",
    "    inner_function()\n",
    "    print(\"Outer function, x =\", x)\n",
    "\n",
    "outer_function()"
   ]
  }
 ],
 "metadata": {
  "kernelspec": {
   "display_name": ".venv",
   "language": "python",
   "name": "python3"
  },
  "language_info": {
   "codemirror_mode": {
    "name": "ipython",
    "version": 3
   },
   "file_extension": ".py",
   "mimetype": "text/x-python",
   "name": "python",
   "nbconvert_exporter": "python",
   "pygments_lexer": "ipython3",
   "version": "3.13.2"
  }
 },
 "nbformat": 4,
 "nbformat_minor": 2
}
