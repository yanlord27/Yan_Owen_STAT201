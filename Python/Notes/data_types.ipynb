{
 "cells": [
  {
   "cell_type": "code",
   "execution_count": 14,
   "metadata": {},
   "outputs": [
    {
     "name": "stdout",
     "output_type": "stream",
     "text": [
      "Hello, Alice!\n",
      "Hello, Alice!Hello, Alice!Hello, Alice!\n",
      "My name is Bob and I am 25 years old.\n",
      "My name is Bob and I am 25 years old.\n",
      "1-2-3. Done!\n"
     ]
    }
   ],
   "source": [
    "#Strings\n",
    "\n",
    "#Concatenation with + and repetition with *\n",
    "greeting = \"Hello\"\n",
    "name = \"Alice\"\n",
    "message = greeting + \", \" + name + \"!\"\n",
    "print(message)\n",
    "print(message*3)\n",
    "\n",
    "#Common Methods\n",
    "#len(s): returns the length of a string\n",
    "#s.lower(): returns a string with every letter of the original in lowercase\n",
    "#s.upper(): returns a string with every letter of the original in uppercase\n",
    "#s.replace(x,y): returns a string with every occurrence of x replaced by y\n",
    "#s.count(x): counts the number of NONOVERLAPPING occurrences of x in the string\n",
    "#s.index(x): returns the location of the first occurrence of x\n",
    "#s.format(): format strings\n",
    "#s.isalpha(): returns True if every character of the string is a letter\n",
    "#s.capitalize(): Capitalizes the first character of the string\n",
    "#s.find(x) Finds the first occurrence of a substring\n",
    "#s.split(x) Splits the string into a list, down where x is\n",
    "#or, by default s.split() splits the string where \" \" is\n",
    "\n",
    "#Print()\n",
    "# Formatting\n",
    "name = \"Bob\"\n",
    "age = 25\n",
    "print(\"My name is {} and I am {} years old.\".format(name, age))\n",
    "#or \n",
    "print(f\"My name is {name} and I am {age} years old.\")\n",
    "\n",
    "#End and sep\n",
    "#Default end is \"\\n\". Default sep is \" \".\n",
    "print(\"1\", \"2\", \"3\", sep=\"-\", end=\".\")\n",
    "print(\" Done!\")\n"
   ]
  },
  {
   "cell_type": "code",
   "execution_count": null,
   "metadata": {},
   "outputs": [
    {
     "data": {
      "text/plain": [
       "3"
      ]
     },
     "execution_count": 11,
     "metadata": {},
     "output_type": "execute_result"
    }
   ],
   "source": [
    "#Math operators\n",
    "#** Exponentiation\n",
    "#% Modulo\n"
   ]
  },
  {
   "cell_type": "code",
   "execution_count": null,
   "metadata": {},
   "outputs": [
    {
     "name": "stdout",
     "output_type": "stream",
     "text": [
      "Cannot divide by zero!\n",
      "This will always execute.\n"
     ]
    }
   ],
   "source": [
    "#User inputs\n",
    "#int() converts the input to integer. Same for other primitive types\n",
    "\n",
    "#Boolean conversion\n",
    "\"\"\"Falsy values (converted to False):\n",
    "None\n",
    "False\n",
    "0, 0.0\n",
    "'' (empty string)\n",
    "[] (empty list), {} (empty dict), set(), etc.\n",
    "\n",
    "\n",
    "Truthy values (converted to True):\n",
    "Anything not falsy, like:\n",
    "Non-zero numbers: 1, -5, 3.14\n",
    "Non-empty strings: \"hello\"\n",
    "Non-empty collections: [1], {'a': 1}, etc.\"\"\"\n",
    "\n",
    "#input(\"xxyy\") prompts user input displaying \"xxyy\"\n",
    "\n",
    "#Try-except-finally\n",
    "try:\n",
    "    #Tries this\n",
    "    print(10 / 0)\n",
    "except:\n",
    "    #Jumps to here if there is an exception\n",
    "    print(\"Cannot divide by zero!\")\n",
    "finally:\n",
    "    #Always executes\n",
    "    print(\"This will always execute.\")"
   ]
  }
 ],
 "metadata": {
  "kernelspec": {
   "display_name": ".venv",
   "language": "python",
   "name": "python3"
  },
  "language_info": {
   "codemirror_mode": {
    "name": "ipython",
    "version": 3
   },
   "file_extension": ".py",
   "mimetype": "text/x-python",
   "name": "python",
   "nbconvert_exporter": "python",
   "pygments_lexer": "ipython3",
   "version": "3.13.2"
  }
 },
 "nbformat": 4,
 "nbformat_minor": 2
}
