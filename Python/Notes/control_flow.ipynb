{
 "cells": [
  {
   "cell_type": "code",
   "execution_count": null,
   "metadata": {},
   "outputs": [
    {
     "name": "stdout",
     "output_type": "stream",
     "text": [
      "2, 1 2, 2, 2, 5 6 7 8 9 "
     ]
    }
   ],
   "source": [
    "#For loops\n",
    "#range(start, stop, step)\n",
    "#stop is required. start and step is optional, which will be defaulted to start=0 and step=1.\n",
    "\n",
    "\n",
    "#Starts at 0, and ends at 9 (meaning that 10 is not included)\n",
    "for i in range(10):\n",
    "    if i==1 or i>=5:\n",
    "        print(i, end=\" \")\n",
    "    elif False: #Never executes\n",
    "        print(1)\n",
    "    else:\n",
    "        print(2, end=\", \")"
   ]
  },
  {
   "cell_type": "code",
   "execution_count": null,
   "metadata": {},
   "outputs": [],
   "source": [
    "#break and continue\n",
    "#break terminates the loop while continue skips the current one and goes to the next\n",
    "#note: They both work on the innermost loop they are in and does not reach outside"
   ]
  },
  {
   "cell_type": "code",
   "execution_count": 26,
   "metadata": {},
   "outputs": [
    {
     "name": "stdout",
     "output_type": "stream",
     "text": [
      "4\n",
      "0 1 2 3 4 gfedcba\n",
      "fedc\n"
     ]
    }
   ],
   "source": [
    "#Strings in loops\n",
    "#Positive indexing: 0 1 2 3 4\n",
    "#Negative indexing: -5 -4 -3 -2 -1\n",
    "print(\"01234\"[-1])\n",
    "for i in \"01234\":\n",
    "    print(i, end=\" \")\n",
    "#Slicing\n",
    "\"01234\"[2:4] #End not inclusive\n",
    "\n",
    "#Reversing\n",
    "s = \"abcdefg\"\n",
    "rev = s[::-1]        # omit start & stop, step = –1\n",
    "print(rev)           # → \"gfedcba\"\n",
    "\n",
    "s = \"abcdefg\"\n",
    "part = s[5:1:-1]\n",
    "print(part)          # → \"fedc\"\n"
   ]
  }
 ],
 "metadata": {
  "kernelspec": {
   "display_name": ".venv",
   "language": "python",
   "name": "python3"
  },
  "language_info": {
   "codemirror_mode": {
    "name": "ipython",
    "version": 3
   },
   "file_extension": ".py",
   "mimetype": "text/x-python",
   "name": "python",
   "nbconvert_exporter": "python",
   "pygments_lexer": "ipython3",
   "version": "3.13.2"
  }
 },
 "nbformat": 4,
 "nbformat_minor": 2
}
