{
 "cells": [
  {
   "cell_type": "code",
   "execution_count": 70,
   "metadata": {},
   "outputs": [
    {
     "name": "stdout",
     "output_type": "stream",
     "text": [
      "[1, 2, 3, [1, 2, 3], 1, 2, 3]\n",
      "[]\n"
     ]
    }
   ],
   "source": [
    "lst=[1,2,3]\n",
    "lst.append([1,2,3])\n",
    "lst.extend([1,2,3])\n",
    "print(lst)\n",
    "\n",
    "list1=[]\n",
    "print(list1)"
   ]
  },
  {
   "cell_type": "code",
   "execution_count": 67,
   "metadata": {},
   "outputs": [
    {
     "name": "stdout",
     "output_type": "stream",
     "text": [
      "['apple', 'banana', 'cherry']\n",
      "['apple', 'orange', 'banana', 'cherry']\n",
      "['apple', 'orange', 'banana', 'cherry', 'grape', 'mango']\n",
      "50\n",
      "[10, 20, 30, 40]\n",
      "[10, 30, 40]\n",
      "[]\n"
     ]
    }
   ],
   "source": [
    "#Lists\n",
    "\n",
    "#Characteristics:\n",
    "#Ordered, mutable\n",
    "\n",
    "#Adding Items\n",
    "\n",
    "#append(item): Add item at the end.\n",
    "#insert(index, item): Insert item at a specific index.\n",
    "#extend(iterable): Extend the list by appending all items from an iterable (like another list).\n",
    "fruits = [\"apple\", \"banana\"]\n",
    "fruits.append(\"cherry\")\n",
    "print(fruits)             \n",
    "\n",
    "fruits.insert(1, \"orange\")\n",
    "print(fruits)             \n",
    "\n",
    "fruits.extend([\"grape\", \"mango\"])\n",
    "print(fruits)       \n",
    "\n",
    "#Removing Items\n",
    "\n",
    "#pop([index]): Removes and returns the item at index. If no index is given, removes the last item.\n",
    "#remove(value): Removes the first occurrence of value.\n",
    "#clear(): Removes all items from the list, making it empty.\n",
    "\n",
    "numbers = [10, 20, 30, 40, 50]\n",
    "\n",
    "last_item = numbers.pop()\n",
    "print(last_item)     \n",
    "print(numbers)       \n",
    "\n",
    "numbers.remove(20)\n",
    "print(numbers)      \n",
    "\n",
    "numbers.clear()\n",
    "print(numbers)     \n",
    "\n"
   ]
  },
  {
   "cell_type": "code",
   "execution_count": 66,
   "metadata": {},
   "outputs": [
    {
     "name": "stdout",
     "output_type": "stream",
     "text": [
      "Sorted by length: ['kiwi', 'apple', 'grape', 'banana', 'pineapple']\n",
      "Sorted by index 1: [[3, 2, 8], [1, 5, 9], [2, 6, 7], [4, 8, 6]]\n",
      "Sorted by index 2: [[4, 8, 6], [2, 6, 7], [3, 2, 8], [1, 5, 9]]\n",
      "[[1, 5, 9], [2, 6, 7], [3, 2, 8], [4, 8, 6]]\n"
     ]
    },
    {
     "data": {
      "text/plain": [
       "3"
      ]
     },
     "execution_count": 66,
     "metadata": {},
     "output_type": "execute_result"
    }
   ],
   "source": [
    "#List sorting\n",
    "numbers=[1,2,3,4]\n",
    "numbers.sort() #Sorts the list by modifying the original. RETURNS NONE.\n",
    "numbers.sort(reverse=True) #Sorts in descending order instead\n",
    "\n",
    "words = [\"apple\", \"banana\", \"kiwi\", \"grape\", \"pineapple\"]\n",
    "words.sort(key=len)  #Sort will call \"len(s)\" for each s in words\n",
    "print(\"Sorted by length:\", words)\n",
    "\n",
    "#Sorting a list in a list\n",
    "def sort_by_index(data, i):\n",
    "    def get_element(lst):\n",
    "        return lst[i]  # Extract the element at index i\n",
    "\n",
    "    data.sort(key=get_element)  # Sort by the specified index\n",
    "\n",
    "# Example usage:\n",
    "data = [[1, 5, 9], [3, 2, 8], [4, 8, 6], [2, 6, 7]]\n",
    "# Sort by the second element (index 1)\n",
    "sort_by_index(data, 1)\n",
    "print(\"Sorted by index 1:\", data)\n",
    "# Sort by the third element (index 2)\n",
    "sort_by_index(data, 2)\n",
    "print(\"Sorted by index 2:\", data)\n",
    "\n",
    "#sorted(list)\n",
    "#returns a sorted list and does not modify the original, unlike list.sort()\n",
    "#Can also use key and reverse\n",
    "#Also works with any other iterables\n",
    "print(sorted(data))\n",
    "\n",
    "#Returns the index of the first occurrence of ()\n",
    "data.index([1,5,9])"
   ]
  },
  {
   "cell_type": "code",
   "execution_count": 65,
   "metadata": {},
   "outputs": [
    {
     "name": "stdout",
     "output_type": "stream",
     "text": [
      "[1, 4, 9, 16, 25]\n",
      "['HELLO', 'WORLD', 'PYTHON']\n"
     ]
    }
   ],
   "source": [
    "#List comprehension\n",
    "# create a list of squares of numbers from 1 to 5\n",
    "squares = [x**2 for x in range(1, 6)]\n",
    "print(squares)  \n",
    "\n",
    "# create a list of words with all letters in uppercase\n",
    "words = [\"hello\", \"world\", \"python\"]\n",
    "uppercase_words = [word.upper() for word in words]\n",
    "print(uppercase_words)"
   ]
  },
  {
   "cell_type": "code",
   "execution_count": 72,
   "metadata": {},
   "outputs": [
    {
     "name": "stdout",
     "output_type": "stream",
     "text": [
      "(0, 1, 4, 9, 16)\n",
      "(10, 20, 30) <class 'tuple'>\n",
      "[1, 2, 3, 4] <class 'list'>\n"
     ]
    }
   ],
   "source": [
    "#Tuples\n",
    "#Ordered, immutable\n",
    "tup=(1,2,3,3)\n",
    "tup.count(3) #count(x) counts the x in tup\n",
    "#count is also a method for list\n",
    "\n",
    "#tuple comprehension-like(Not actual tuple comprehension. Uses generators and then converts to tuple)\n",
    "tup = tuple(x**2 for x in range(5))\n",
    "print(tup)  # Output: (0, 1, 4, 9, 16)\n",
    "\n",
    "#Can be converted to list and vice versa\n",
    "lst = [10, 20, 30]\n",
    "tup = tuple(lst)\n",
    "print(tup, type(tup))\n",
    "# → (10, 20, 30) <class 'tuple'>\n",
    "del list   # deletes your variable, so `list` once again refers to the built-in\n",
    "\n",
    "# tuple → list\n",
    "orig = (1, 2, 3, 4)\n",
    "new_list = list(orig)\n",
    "print(new_list, type(new_list))\n",
    "# → [1, 2, 3, 4] <class 'list'>\n"
   ]
  },
  {
   "cell_type": "code",
   "execution_count": 45,
   "metadata": {},
   "outputs": [
    {
     "name": "stdout",
     "output_type": "stream",
     "text": [
      "{1, 2, 3, 4}\n",
      "{1, 2, 3, 4}\n",
      "set()\n",
      "1\n",
      "2\n",
      "3\n",
      "4\n",
      "Original set: {1, 2, 3, 4, 5}\n",
      "Popped: 1 | Remaining: {2, 3, 4, 5}\n",
      "Popped: 2 | Remaining: {3, 4, 5}\n",
      "Popped: 3 | Remaining: {4, 5}\n",
      "Popped: 4 | Remaining: {5}\n",
      "Popped: 5 | Remaining: set()\n"
     ]
    }
   ],
   "source": [
    "#Sets\n",
    "#unordered, unique, and mutable\n",
    "my_set = {1, 2, 2, 3, 4}\n",
    "print(my_set)  \n",
    "\n",
    "#Gets rid of repeated objects\n",
    "my_set = set([1, 2, 2, 3, 4])\n",
    "print(my_set) \n",
    "type(my_set) \n",
    "\n",
    "my_empty_set=set()\n",
    "print(my_empty_set) #Empty sets print \"set()\"\n",
    "\n",
    "#Since sets are unodered, you can't set[0]\n",
    "#So check membership by iterating over all objects\n",
    "for item in my_set:\n",
    "    print(item)\n",
    "\n",
    "#Methods\n",
    "#add(item): Adds an item to the set (if it’s not already present).\n",
    "#update(iterable): Adds multiple items (from another set, list, tuple, etc.).\n",
    "#remove(item): Removes the specified item (raises an error if not found).\n",
    "#discard(item): Removes the specified item (does not raise an error if not found).\n",
    "#clear(): Removes all items.\n",
    "#pop() returns and removes an arbitrary element\n",
    "s = {5, 2, 3, 1, 4}\n",
    "print(\"Original set:\", s)\n",
    "\n",
    "while s:\n",
    "    print(\"Popped:\", s.pop(), \"| Remaining:\", s)\n"
   ]
  },
  {
   "cell_type": "code",
   "execution_count": 76,
   "metadata": {},
   "outputs": [
    {
     "name": "stdout",
     "output_type": "stream",
     "text": [
      "{1, 2, 3, 4, 5}\n",
      "{3}\n",
      "{1, 2}\n",
      "{1, 2, 4, 5}\n",
      "{'o', 'e', 'l', 'h'}\n"
     ]
    },
    {
     "data": {
      "text/plain": [
       "set"
      ]
     },
     "execution_count": 76,
     "metadata": {},
     "output_type": "execute_result"
    }
   ],
   "source": [
    "#Set methods\n",
    "# Examples of Mathematical Operations on Sets\n",
    "set_a = {1, 2, 3}\n",
    "set_b = {3, 4, 5}\n",
    "\n",
    "# Union\n",
    "print(set_a | set_b)  \n",
    "\n",
    "# Intersection\n",
    "print(set_a & set_b) \n",
    "\n",
    "# Difference\n",
    "print(set_a - set_b) \n",
    "\n",
    "# Symmetric Difference\n",
    "print(set_a ^ set_b)  \n",
    "\n",
    "#Set comprehension\n",
    "my_set = {x for x in 'hello'}\n",
    "print(my_set)\n",
    "type(my_set)"
   ]
  },
  {
   "cell_type": "code",
   "execution_count": null,
   "metadata": {},
   "outputs": [
    {
     "name": "stdout",
     "output_type": "stream",
     "text": [
      "{'name': 'Alice', 'age': 30, 'city': 'New York'}\n",
      "{'brand': 'Tesla', 'model': 'Model 3', 'year': 2023}\n",
      "{}\n",
      "Alice\n",
      "{'name': 'Alice', 'age': 31, 'city': 'New York'}\n",
      "{'name': 'Alice', 'age': 31, 'city': 'New York', 'job': 'Engineer'}\n"
     ]
    }
   ],
   "source": [
    "#Dictionaries\n",
    "#Mutable, key-value pairs(when extracted, are tuples)\n",
    "#Keys must be immutable, values can be anything\n",
    "#Immutable types include: Tuples, strings, floats, booleans, int, \n",
    "\n",
    "#Creation\n",
    "# Using braces\n",
    "person = {\n",
    "    \"name\": \"Alice\",\n",
    "    \"age\": 30,\n",
    "    \"city\": \"New York\"\n",
    "}\n",
    "print(person)\n",
    "\n",
    "# Using dict() constructor\n",
    "car = dict(brand=\"Tesla\", model=\"Model 3\", year=2023)\n",
    "print(car)\n",
    "\n",
    "# Empty dictionary\n",
    "empty_dict = {}\n",
    "print(empty_dict)\n",
    "\n",
    "#Access using the keys\n",
    "print(person[\"name\"])\n",
    "\n",
    "# Modify value\n",
    "person[\"age\"] = 31\n",
    "print(person)                    \n",
    "\n",
    "# Add new key-value pair\n",
    "person[\"job\"] = \"Engineer\"\n",
    "print(person)                    \n",
    "\n",
    "#Removing\n",
    "\n",
    "#pop(key): Removes and returns the value for key.\n",
    "#del dictionary[key]: Removes the key-value pair.\n",
    "#popitem(): Removes and returns an arbitrary key-value pair (in Python 3.7+, it removes the last inserted item).\n",
    "#clear(): Removes all items."
   ]
  },
  {
   "cell_type": "code",
   "execution_count": 83,
   "metadata": {},
   "outputs": [
    {
     "name": "stdout",
     "output_type": "stream",
     "text": [
      "dict_keys(['apple', 'banana', 'cherry'])\n",
      "dict_values([3, 5, 2])\n",
      "The Head of State of apple is 3\n",
      "The Head of State of banana is 5\n",
      "The Head of State of cherry is 2\n",
      "('apple', 3)\n",
      "('banana', 5)\n",
      "('cherry', 2)\n"
     ]
    }
   ],
   "source": [
    "#Iterating over a dictionary\n",
    "\n",
    "#keys(): Returns the list of all keys present in the dictionary.\n",
    "#values(): Returns the list of all values present in the dictionary\n",
    "#items(): Returns all the items present in the dictionary. Each item will be inside a tuple as a key-value pair.\n",
    "\n",
    "fruits = {\"apple\": 3, \"banana\": 5, \"cherry\": 2}\n",
    "print(fruits.keys())  \n",
    "print(fruits.values()) \n",
    "\n",
    "for key,value in fruits.items():\n",
    "    print(\"The Head of State of\",key,\"is\",value)\n",
    "for a in fruits.items():\n",
    "    print(a)"
   ]
  }
 ],
 "metadata": {
  "kernelspec": {
   "display_name": ".venv",
   "language": "python",
   "name": "python3"
  },
  "language_info": {
   "codemirror_mode": {
    "name": "ipython",
    "version": 3
   },
   "file_extension": ".py",
   "mimetype": "text/x-python",
   "name": "python",
   "nbconvert_exporter": "python",
   "pygments_lexer": "ipython3",
   "version": "3.13.2"
  }
 },
 "nbformat": 4,
 "nbformat_minor": 2
}
