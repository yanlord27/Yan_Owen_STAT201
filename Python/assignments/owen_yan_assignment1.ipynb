{
 "cells": [
  {
   "cell_type": "raw",
   "metadata": {
    "vscode": {
     "languageId": "raw"
    }
   },
   "source": [
    "---\n",
    "title: \"Assignment 1\"\n",
    "subtitle: \"STAT 201\"\n",
    "author: \"Owen Yan\"\n",
    "format:\n",
    "  html:\n",
    "    toc: true\n",
    "    embed-resources: true\n",
    "jupyter: python3\n",
    "---"
   ]
  },
  {
   "cell_type": "markdown",
   "metadata": {},
   "source": [
    "## Instructions {-}\n",
    "\n",
    "1. **Write your name** on the assignment.\n",
    "\n",
    "2. Write your code in the *Code* cells of the **template provided** to write solutions for the assignment. **Do not open a new notebook**, and work from scratch. Ensure that the solution is written neatly enough to understand and grade.\n",
    "\n",
    "3. Use [Quarto](https://quarto.org/docs/output-formats/html-basics.html) to print the *.ipynb* file as HTML. You will need to open the command prompt, navigate to the directory containing the file, and use the command: `quarto render filename.ipynb --to html`. Submit the HTML file.\n",
    "\n",
    "4. You may talk to a friend, discuss the questions and potential directions for solving them. However, you need to write your own solutions and code separately, and not as a group activity. Do not use AI to solve the problems.\n",
    "\n",
    "5. If your document is not clean and organized, you can lose up to 2 points:\n",
    "\n",
    "    - Must be an HTML file rendered using Quarto. \n",
    "    - There aren’t excessively long outputs of extraneous information (e.g. no printouts of unnecessary results without good reason, there aren’t long printouts of which iteration a loop is on, there aren’t long sections of commented-out code, etc.). There is no piece of unnecessary / redundant code, and no unnecessary / redundant text\n",
    "    - The code follows the [python style guide](https://peps.python.org/pep-0008/) for naming variables, spaces, indentation, etc.\n",
    "    - The code should be commented and clearly written with intuitive variable names. For example, use variable names such as number_input, factor, hours, instead of a,b,xyz, etc.\n",
    "\n",
    "6. If your document does not include the output of your code, you may lose up to 5 points."
   ]
  },
  {
   "cell_type": "markdown",
   "metadata": {},
   "source": [
    "## Question 1 (4 points)"
   ]
  },
  {
   "cell_type": "markdown",
   "metadata": {},
   "source": [
    "a) Create a a variable called `var_float` that contains a decimal number."
   ]
  },
  {
   "cell_type": "code",
   "execution_count": 143,
   "metadata": {},
   "outputs": [],
   "source": [
    "var_float=3.14"
   ]
  },
  {
   "cell_type": "markdown",
   "metadata": {},
   "source": [
    "b) Store a sentence as `var_sent` that reads exactly as follows: \"The square of `{}` is `{}`.\" Where the first `{}` is your `var_float` and the second `{}` is the square of that variable. Print your sentence."
   ]
  },
  {
   "cell_type": "code",
   "execution_count": 144,
   "metadata": {},
   "outputs": [
    {
     "name": "stdout",
     "output_type": "stream",
     "text": [
      "The square of 3.14 is 9.8596.\n"
     ]
    }
   ],
   "source": [
    "var_sent=\"The square of {} is {}.\".format(var_float, var_float**2)\n",
    "print(var_sent)"
   ]
  },
  {
   "cell_type": "markdown",
   "metadata": {},
   "source": [
    "c) Print the output of using the `count` **method** to determine how many spaces are in `var_sent`."
   ]
  },
  {
   "cell_type": "code",
   "execution_count": 145,
   "metadata": {},
   "outputs": [
    {
     "name": "stdout",
     "output_type": "stream",
     "text": [
      "5\n"
     ]
    }
   ],
   "source": [
    "print(var_sent.count(\" \"))"
   ]
  },
  {
   "cell_type": "markdown",
   "metadata": {},
   "source": [
    "d) Round your `var_float` to 0 decimal places and convert to an integer. Store this as `var_int` and print the `type` to verify this was done correctly."
   ]
  },
  {
   "cell_type": "code",
   "execution_count": 183,
   "metadata": {},
   "outputs": [
    {
     "name": "stdout",
     "output_type": "stream",
     "text": [
      "<class 'int'>\n"
     ]
    }
   ],
   "source": [
    "var_int=round(var_float)\n",
    "print(type(var_int))"
   ]
  },
  {
   "cell_type": "markdown",
   "metadata": {},
   "source": [
    "## Question 2 (3 points)"
   ]
  },
  {
   "cell_type": "markdown",
   "metadata": {},
   "source": [
    "Have a user input 2 Booleans (hint: must be type bool). In a **single print line**, using only `and`, `or`, `not` functions, have the output return True if both variables are the same, and False is they are different. \n",
    "\n",
    "Clarification: 1) cannot use conditional if statements 2) this must be capable of printing the correct output for any possible booleans the user could enter, not just the one example that your html will show."
   ]
  },
  {
   "cell_type": "code",
   "execution_count": 168,
   "metadata": {},
   "outputs": [
    {
     "name": "stdout",
     "output_type": "stream",
     "text": [
      "True\n"
     ]
    }
   ],
   "source": [
    "#Ask for bool_1\n",
    "while True:\n",
    "    try:\n",
    "        bool_1=bool(int(input(\"Enter the first boolean(0 for False; Any other number for True): \")))\n",
    "        break\n",
    "    except:\n",
    "        print(\"Invalid input. please type 0 for False or any other number for True.\")\n",
    "#Ask for bool_2\n",
    "while True:\n",
    "    try:\n",
    "        bool_2=bool(int(input(\"Enter the second boolean(0 for False; Any other number for True): \")))\n",
    "        break\n",
    "    except:\n",
    "        print(\"Invalid input. please type 0 for False or any other number for True.\")\n",
    "#Print result\n",
    "print((bool_1 and bool_2) or ((not bool_1) and (not bool_2)))"
   ]
  },
  {
   "cell_type": "markdown",
   "metadata": {},
   "source": [
    "## Question 3 (6 points)"
   ]
  },
  {
   "cell_type": "markdown",
   "metadata": {},
   "source": [
    "At Northwestern, email addresses are classified as follows:\n",
    "\n",
    "- **Student email addresses** end with `@u.northwestern.edu`.\n",
    "- **Professor email addresses** end with `@northwestern.edu` (but not `@u.northwestern.edu`).\n",
    "\n",
    "Write a Python program that:\n",
    "1. Asks the user how many email addresses they will enter.\n",
    "2. Prompts the user to input each email address.\n",
    "3. After all email addresses are entered:\n",
    "   - Print all professor email addresses under the heading `\"Professor Emails:\"`.\n",
    "   - Print all student email addresses under the heading `\"Student Emails:\"`.\n",
    "   - If no professor or student emails were entered, print `\"None\"` under the respective heading.\n",
    "\n",
    "### Requirements:\n",
    "- Do not use lists or other advanced data structures, since we have not covered them yet.\n",
    "- Use only basic string operations and loops.\n",
    "- **The program must handle all cases**, regardless of uppercase or lowercase in the email addresses.\n",
    "- **Trim any leading or trailing whitespace** in the user input before classifying the email.\n",
    "\n",
    "**Example Run:**\n",
    "\n",
    "How many email addresses will you be entering? 3 <br>\n",
    "Enter an email address: lshi@northwestern.edu  <br>\n",
    "Enter an email address: jackyu@u.northwestern.edu  <br>\n",
    "Enter an email address:   Alexa@u.northwestern.edu  <br>\n",
    "\n",
    "**Output:**\n",
    "\n",
    "Professor Emails: <br>\n",
    "lshi@northwestern.edu <br>\n",
    "\n",
    "Student Emails: <br>\n",
    "jackyu@u.northwestern.edu <br>\n",
    "alexa@u.northwestern.edu <br>\n"
   ]
  },
  {
   "cell_type": "code",
   "execution_count": null,
   "metadata": {},
   "outputs": [
    {
     "name": "stdout",
     "output_type": "stream",
     "text": [
      "Professor Emails:\n",
      "owenyan@northwestern.edu\n",
      "\n",
      "Student Emails:\n",
      "owenyan2028@u.northwestern.edu\n",
      "owen@u.northwestern.edu\n"
     ]
    }
   ],
   "source": [
    "#Ask for number of emails\n",
    "while True:\n",
    "    try:\n",
    "        n = int(input(\"How many email addresses will you be entering? \"))\n",
    "        break\n",
    "    except:\n",
    "        print(\"Invalid input. Please enter how many email addresses you will be entering.\")\n",
    "#Create strings for professors and students\n",
    "professors = \"\"\n",
    "students   = \"\"\n",
    "\n",
    "#Ask n times\n",
    "for i in range(n):\n",
    "    #Ask for email; strip spaces and turns into lowercase\n",
    "    email = input(\"Enter an email address: \").strip()       \n",
    "    low   = email.lower()                                  \n",
    "\n",
    "    #If it's the first one, add email directly. Otherwise, new line and then add.\n",
    "    if low.endswith(\"@u.northwestern.edu\"):\n",
    "        students   += (\"\" if students == \"\" else \"\\n\") + email\n",
    "\n",
    "    elif low.endswith(\"@northwestern.edu\"):\n",
    "        professors += (\"\" if professors == \"\" else \"\\n\") + email\n",
    "\n",
    "#Prints emails if there are emails. Prints None otherwise\n",
    "print(\"Professor Emails:\")\n",
    "print(professors if professors else \"None\")\n",
    "print()\n",
    "print(\"Student Emails:\")\n",
    "print(students if students else \"None\")"
   ]
  },
  {
   "cell_type": "markdown",
   "metadata": {},
   "source": [
    "## Question 4 (3 points)"
   ]
  },
  {
   "cell_type": "markdown",
   "metadata": {},
   "source": [
    "Write a tip calculator program that asks the user for the price of the meal and the percent tip they want to leave. Then print a sentence that displays both the tip amount and total bill. Example if meal price is 25 dollars and tip is 15 percent:\n",
    "                                   \n",
    "                                   Your tip amount is $3.75 and your total bill is $28.75."
   ]
  },
  {
   "cell_type": "code",
   "execution_count": null,
   "metadata": {},
   "outputs": [
    {
     "name": "stdout",
     "output_type": "stream",
     "text": [
      "Your tip amount is $4.0 and your total bill is $24.0.\n"
     ]
    }
   ],
   "source": [
    "#Ask for price\n",
    "while True:\n",
    "    try:\n",
    "        price=float(input(\"Enter the price: \"))\n",
    "        break\n",
    "    except:\n",
    "        print(\"Invalid input. Please enter the price as a number: \")\n",
    "#Ask for percent tip\n",
    "while True:\n",
    "    try:\n",
    "        tip=float(input(\"Enter the percent tip: \"))\n",
    "        break\n",
    "    except:\n",
    "        print(\"Invalid input. Please enter the percent tip as a number: \")\n",
    "#Print out sentence with tip amount and total price\n",
    "print(f\"Your tip amount is ${price*tip/100} and your total bill is ${price+price*tip/100}.\")"
   ]
  },
  {
   "cell_type": "markdown",
   "metadata": {},
   "source": [
    "## Question 5 (3 points)"
   ]
  },
  {
   "cell_type": "markdown",
   "metadata": {},
   "source": [
    "Write a program that asks the user for a number of seconds and prints out how many minutes and seconds that is. Example:\n",
    "\n",
    "                                    200 seconds is 3 minutes and 20 seconds.\n",
    "                                               \n",
    "**Use only two lines of code for this question: one line for the input and one line for the print.** "
   ]
  },
  {
   "cell_type": "code",
   "execution_count": null,
   "metadata": {},
   "outputs": [
    {
     "name": "stdout",
     "output_type": "stream",
     "text": [
      "132419283048 seconds is 2206988050 minutes and 48 seconds.\n"
     ]
    }
   ],
   "source": [
    "#Ask for number\n",
    "while True:\n",
    "    try:\n",
    "        seconds=int(input(\"Enter the number of seconds: \"))\n",
    "        break\n",
    "    except:\n",
    "        print(\"Invalid input. Please enter the number of seconds: \")\n",
    "#Print out sentence with number, number/60=minutes, and number%60=remainder of seconds\n",
    "print(str(seconds)+\" seconds is \"+ str(int(seconds/60))+\" minutes and \"+ str(seconds%60)+\" seconds.\")"
   ]
  },
  {
   "cell_type": "markdown",
   "metadata": {},
   "source": [
    "## Question 6 (4 points)"
   ]
  },
  {
   "cell_type": "markdown",
   "metadata": {},
   "source": [
    "Write a program that asks the user to enter two numbers. Have the program return one of the following messages depending on which criteria is met. \n",
    "\n",
    "\"`num1` is greater than `num2`\"; \"`num 1` is less than `num2`\"; \"`num1` is equal to `num2`\"; where `num1` and `num2` are the user inputed values.\n",
    "\n",
    "Show the output of the program with any two numbers of your choice."
   ]
  },
  {
   "cell_type": "code",
   "execution_count": null,
   "metadata": {},
   "outputs": [
    {
     "name": "stdout",
     "output_type": "stream",
     "text": [
      "13248.0 is greater than 123.0\n"
     ]
    }
   ],
   "source": [
    "#Ask for the two numbers\n",
    "while True:\n",
    "    try:\n",
    "        num1=float(input(\"Enter the first number: \"))\n",
    "        break\n",
    "    except:\n",
    "        print(\"Invalid input. Please enter a number: \")\n",
    "while True:\n",
    "    try:\n",
    "        num2=float(input(\"Enter the second number: \"))\n",
    "        break\n",
    "    except:\n",
    "        print(\"Invalid input. Please enter a number: \")\n",
    "\n",
    "#Compare sizes and print accordingly\n",
    "if num1>num2:\n",
    "    print(f\"{num1} is greater than {num2}\")\n",
    "if num1<num2:\n",
    "    print(f\"{num1} is less than {num2}\")\n",
    "if num1==num2:\n",
    "    print(f\"{num1} is equal to {num2}\")"
   ]
  },
  {
   "cell_type": "markdown",
   "metadata": {},
   "source": [
    "## Question 7 (4 points)"
   ]
  },
  {
   "cell_type": "markdown",
   "metadata": {},
   "source": [
    "a) Use a **single if-elif-else** statement to print the smallest of 3 user defined numbers. Show the output of the program with any three numbers of your choice."
   ]
  },
  {
   "cell_type": "code",
   "execution_count": null,
   "metadata": {},
   "outputs": [
    {
     "name": "stdout",
     "output_type": "stream",
     "text": [
      "1234.0\n"
     ]
    }
   ],
   "source": [
    "#Ask for the three numbers\n",
    "while True:\n",
    "    try:\n",
    "        num1=float(input(\"Enter the first number: \"))\n",
    "        break\n",
    "    except:\n",
    "        print(\"Invalid input. Please enter a number: \")\n",
    "while True:\n",
    "    try:\n",
    "        num2=float(input(\"Enter the second number: \"))\n",
    "        break\n",
    "    except:\n",
    "        print(\"Invalid input. Please enter a number: \")\n",
    "while True:\n",
    "    try:\n",
    "        num3=float(input(\"Enter the third number: \"))\n",
    "        break\n",
    "    except:\n",
    "        print(\"Invalid input. Please enter a number: \")\n",
    "#Single if-elif-else statement that compares the numbers and prints the smallest\n",
    "if (num2<=num1 and num2<=num3):\n",
    "    print(num2)\n",
    "elif (num3<=num1 and num3<=num2):\n",
    "    print(num3)\n",
    "else:\n",
    "    print(num1)\n"
   ]
  },
  {
   "cell_type": "markdown",
   "metadata": {},
   "source": [
    "b) Use a **nested** conditional statement to print the smallest of 3 user defined numbers. Show the output of the program with any three numbers of your choice."
   ]
  },
  {
   "cell_type": "code",
   "execution_count": null,
   "metadata": {},
   "outputs": [
    {
     "name": "stdout",
     "output_type": "stream",
     "text": [
      "1.0\n"
     ]
    }
   ],
   "source": [
    "#Ask for the three numbers\n",
    "while True:\n",
    "    try:\n",
    "        num1=float(input(\"Enter the first number: \"))\n",
    "        break\n",
    "    except:\n",
    "        print(\"Invalid input. Please enter a number: \")\n",
    "while True:\n",
    "    try:\n",
    "        num2=float(input(\"Enter the second number: \"))\n",
    "        break\n",
    "    except:\n",
    "        print(\"Invalid input. Please enter a number: \")\n",
    "while True:\n",
    "    try:\n",
    "        num3=float(input(\"Enter the third number: \"))\n",
    "        break\n",
    "    except:\n",
    "        print(\"Invalid input. Please enter a number: \")\n",
    "#Nested if-else that compares the numbers and prints the smallest\n",
    "if num1 <= num2:\n",
    "    if num1 <= num3:\n",
    "        print(num1)\n",
    "    else:\n",
    "        print(num3)\n",
    "else:\n",
    "    if num2 <= num3:\n",
    "        print(num2)\n",
    "    else:\n",
    "        print(num3)"
   ]
  },
  {
   "cell_type": "markdown",
   "metadata": {},
   "source": [
    "## Question 8 (6 points)"
   ]
  },
  {
   "cell_type": "markdown",
   "metadata": {},
   "source": [
    "Write a program that asks the user to enter either rock, paper, or scissors. Use a conditional statement to determine if the user wins, loses, or ties the computer at the game \"Rock, Paper, Scissors\". Note: rock beats scissors; scissors beats paper; paper beats rock\n",
    "\n",
    "Print a meaningful sentence that includes the winner, the computer's choice, and the user's choice.\n",
    "\n",
    "- Handle case sensitivity (example: if the user enters Rock, it will still run). \n",
    "- If the user enters a word other than one of the choices, print \"Invalid choice.\". \n",
    "- Show the output of the program when the user enters Rock (capitalized)"
   ]
  },
  {
   "cell_type": "code",
   "execution_count": 178,
   "metadata": {},
   "outputs": [
    {
     "name": "stdout",
     "output_type": "stream",
     "text": [
      "You lose! You chose Rock and the computer chose Paper.\n"
     ]
    }
   ],
   "source": [
    "# starter code to generate a random choice of rock, paper, scissors\n",
    "import random as rm\n",
    "comp_choice = rm.choice(['rock', 'paper', 'scissors'])\n",
    "\n",
    "# your solution in this code chunk below\n",
    "#Ask for input and strips and lowers\n",
    "user_choice = input(\"Enter Rock, Paper, or Scissors: \").strip().lower()\n",
    "\n",
    "#Check for invalid choice\n",
    "if (user_choice != 'rock' and user_choice != 'paper' and user_choice !='scissors'):\n",
    "    print(\"Invalid choice.\")\n",
    "else:\n",
    "    #Prints capitalized\n",
    "    u = user_choice.capitalize()\n",
    "    c = comp_choice.capitalize()\n",
    "    #Compares choices and outputs accodingly\n",
    "    if user_choice == comp_choice:\n",
    "        print(f\"It's a tie! You both chose {u}.\")\n",
    "    elif (user_choice == 'rock' and comp_choice == 'scissors') or (user_choice == 'scissors' and comp_choice == 'paper') or (user_choice == 'paper' and comp_choice == 'rock'):\n",
    "        print(f\"You win! You chose {u} and the computer chose {c}.\")\n",
    "    else:\n",
    "        print(f\"You lose! You chose {u} and the computer chose {c}.\")\n"
   ]
  },
  {
   "cell_type": "markdown",
   "metadata": {},
   "source": [
    "## Bonus (6 points)\n",
    "\n",
    "FFor all questions in this assignment that involve accepting user input:\n",
    "\n",
    "- Use a **`try-except` block** to handle cases where the user may enter invalid input (e.g., non-numeric values).\n",
    "- Implement a **loop** that repeatedly prompts the user until a valid value is provided, so the program can proceed safely.\n",
    "- To receive credit, you must **revise each applicable question** by modifying your code to include both the input loop and error handling directly in that question’s solution.\n",
    "\n",
    "Each revised question is worth **1 point**."
   ]
  }
 ],
 "metadata": {
  "kernelspec": {
   "display_name": ".venv",
   "language": "python",
   "name": "python3"
  },
  "language_info": {
   "codemirror_mode": {
    "name": "ipython",
    "version": 3
   },
   "file_extension": ".py",
   "mimetype": "text/x-python",
   "name": "python",
   "nbconvert_exporter": "python",
   "pygments_lexer": "ipython3",
   "version": "3.13.2"
  }
 },
 "nbformat": 4,
 "nbformat_minor": 4
}
